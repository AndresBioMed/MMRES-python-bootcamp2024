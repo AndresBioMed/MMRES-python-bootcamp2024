{
 "cells": [
  {
   "cell_type": "markdown",
   "metadata": {
    "colab_type": "text",
    "id": "view-in-github"
   },
   "source": [
    "<a href=\"https://colab.research.google.com/github/MMRES-PyBootcamp/MMRES-python-bootcamp2022/blob/main/11_misophonia_II.ipynb\" target=\"_parent\"><img src=\"https://colab.research.google.com/assets/colab-badge.svg\" alt=\"Open In Colab\"/></a>"
   ]
  },
  {
   "cell_type": "markdown",
   "metadata": {
    "id": "iBiTnm-2Rwq9"
   },
   "source": [
    "# Session 11 - Misophonia (second part)\n",
    "When reporting the results of a study, we first describe the variables of interest in tables and figures.\n",
    "\n",
    "We describe demographics (sex, age, marital status, etc..)\n",
    "\n",
    "We describe outcome variables (misophonia)\n",
    "\n",
    "We describe explanatory variables (cephalometric measures, anxiety, depression)\n",
    "\n",
    "We then test the main hypotheses of the study.\n",
    "\n",
    "We state the main relationships we want to study and formulate the statistical hypothesis (Introduction)\n",
    "\n",
    "We describe how the study was performed and the statistical methods to test the hypothesis (Methods)\n",
    "\n",
    "We describe the results of the hypothesis tests with statistics, and significance measures.\n",
    "\n",
    "We illustrate the results with figures.\n",
    "\n",
    "\n",
    "\n",
    "\n",
    "Are the state and trait correlated?"
   ]
  },
  {
   "cell_type": "markdown",
   "metadata": {
    "id": "fxWsg4OnWYCL"
   },
   "source": [
    "<div class=\"alert alert-block alert-success\"><b>Practice:</b> \n",
    "Imagine we want to study the anxiety of participants in the misophonia study. We formulate the following hypothesis:\n",
    "\n",
    "> Participants who enrolled in the study had an increased level of anxiety from their baseline (trait) that is related to their:\n",
    "<ul>\n",
    "  <li> age\n",
    "  <li> sex\n",
    "  <li> misophonia state.\n",
    "</ul>\n",
    "</div>"
   ]
  },
  {
   "cell_type": "markdown",
   "metadata": {
    "id": "77XC87TbRwrE"
   },
   "source": [
    "**This document is devised as a tool to enable your self-learning process. If you get stuck at some step or need any kind of help, please don't hesitate to raise your hand and ask for the teacher's guidance.**\n",
    "\n",
    "---"
   ]
  },
  {
   "cell_type": "code",
   "execution_count": 1,
   "metadata": {
    "id": "xTJKZ1FK_w1L"
   },
   "outputs": [],
   "source": [
    "import matplotlib.pyplot as plt\n",
    "import seaborn as sns\n",
    "import numpy as np\n",
    "from scipy import stats"
   ]
  },
  {
   "cell_type": "markdown",
   "metadata": {
    "id": "FATVWbEYRwrE"
   },
   "source": [
    "## Data loading\n",
    "\n",
    "Let's begin again by loading Pandas with the `pd` alias and by importing the misophonia dataset `misophonia_data.xlsx` from the `/MMRES-python-bootcamp2024/datasets` sub-folder:"
   ]
  },
  {
   "cell_type": "code",
   "execution_count": 2,
   "metadata": {
    "id": "f-GEQ74bRwrF"
   },
   "outputs": [
    {
     "data": {
      "text/html": [
       "<div>\n",
       "<style scoped>\n",
       "    .dataframe tbody tr th:only-of-type {\n",
       "        vertical-align: middle;\n",
       "    }\n",
       "\n",
       "    .dataframe tbody tr th {\n",
       "        vertical-align: top;\n",
       "    }\n",
       "\n",
       "    .dataframe thead th {\n",
       "        text-align: right;\n",
       "    }\n",
       "</style>\n",
       "<table border=\"1\" class=\"dataframe\">\n",
       "  <thead>\n",
       "    <tr style=\"text-align: right;\">\n",
       "      <th></th>\n",
       "      <th>Misofonia</th>\n",
       "      <th>Misofonia.dic</th>\n",
       "      <th>Estado</th>\n",
       "      <th>Estado.dic</th>\n",
       "      <th>ansiedad.rasgo</th>\n",
       "      <th>ansiedad.rasgo.dic</th>\n",
       "      <th>ansiedad.estado</th>\n",
       "      <th>ansiedad.estado.dic</th>\n",
       "      <th>ansiedad.medicada</th>\n",
       "      <th>ansiedad.medicada.dic</th>\n",
       "      <th>...</th>\n",
       "      <th>Edad</th>\n",
       "      <th>CLASE</th>\n",
       "      <th>Angulo_convexidad</th>\n",
       "      <th>protusion.mandibular</th>\n",
       "      <th>Angulo_cuelloYtercio</th>\n",
       "      <th>Subnasal_H</th>\n",
       "      <th>cambio.autoconcepto</th>\n",
       "      <th>Misofonia.post</th>\n",
       "      <th>Misofonia.pre</th>\n",
       "      <th>ansiedad.dif</th>\n",
       "    </tr>\n",
       "  </thead>\n",
       "  <tbody>\n",
       "    <tr>\n",
       "      <th>0</th>\n",
       "      <td>si</td>\n",
       "      <td>4.0</td>\n",
       "      <td>divorciado</td>\n",
       "      <td>2.0</td>\n",
       "      <td>99.0</td>\n",
       "      <td>1.0</td>\n",
       "      <td>99.0</td>\n",
       "      <td>1.0</td>\n",
       "      <td>no</td>\n",
       "      <td>0.0</td>\n",
       "      <td>...</td>\n",
       "      <td>44.0</td>\n",
       "      <td>III</td>\n",
       "      <td>7.97</td>\n",
       "      <td>13.0</td>\n",
       "      <td>89.6</td>\n",
       "      <td>1.5</td>\n",
       "      <td>1.0</td>\n",
       "      <td>21.0</td>\n",
       "      <td>14.0</td>\n",
       "      <td>0.0</td>\n",
       "    </tr>\n",
       "    <tr>\n",
       "      <th>1</th>\n",
       "      <td>si</td>\n",
       "      <td>2.0</td>\n",
       "      <td>casado</td>\n",
       "      <td>1.0</td>\n",
       "      <td>75.0</td>\n",
       "      <td>1.0</td>\n",
       "      <td>75.0</td>\n",
       "      <td>1.0</td>\n",
       "      <td>no</td>\n",
       "      <td>0.0</td>\n",
       "      <td>...</td>\n",
       "      <td>43.0</td>\n",
       "      <td>II</td>\n",
       "      <td>18.23</td>\n",
       "      <td>-5.0</td>\n",
       "      <td>107.2</td>\n",
       "      <td>7.3</td>\n",
       "      <td>0.0</td>\n",
       "      <td>14.0</td>\n",
       "      <td>13.0</td>\n",
       "      <td>0.0</td>\n",
       "    </tr>\n",
       "    <tr>\n",
       "      <th>2</th>\n",
       "      <td>no</td>\n",
       "      <td>0.0</td>\n",
       "      <td>divorciado</td>\n",
       "      <td>2.0</td>\n",
       "      <td>77.0</td>\n",
       "      <td>1.0</td>\n",
       "      <td>55.0</td>\n",
       "      <td>0.0</td>\n",
       "      <td>no</td>\n",
       "      <td>0.0</td>\n",
       "      <td>...</td>\n",
       "      <td>24.0</td>\n",
       "      <td>I</td>\n",
       "      <td>12.27</td>\n",
       "      <td>11.5</td>\n",
       "      <td>101.4</td>\n",
       "      <td>5.0</td>\n",
       "      <td>NaN</td>\n",
       "      <td>NaN</td>\n",
       "      <td>NaN</td>\n",
       "      <td>-22.0</td>\n",
       "    </tr>\n",
       "    <tr>\n",
       "      <th>3</th>\n",
       "      <td>si</td>\n",
       "      <td>3.0</td>\n",
       "      <td>casado</td>\n",
       "      <td>1.0</td>\n",
       "      <td>95.0</td>\n",
       "      <td>1.0</td>\n",
       "      <td>99.0</td>\n",
       "      <td>1.0</td>\n",
       "      <td>no</td>\n",
       "      <td>0.0</td>\n",
       "      <td>...</td>\n",
       "      <td>33.0</td>\n",
       "      <td>III</td>\n",
       "      <td>7.81</td>\n",
       "      <td>16.8</td>\n",
       "      <td>75.3</td>\n",
       "      <td>2.7</td>\n",
       "      <td>1.0</td>\n",
       "      <td>NaN</td>\n",
       "      <td>NaN</td>\n",
       "      <td>4.0</td>\n",
       "    </tr>\n",
       "    <tr>\n",
       "      <th>4</th>\n",
       "      <td>no</td>\n",
       "      <td>0.0</td>\n",
       "      <td>casado</td>\n",
       "      <td>1.0</td>\n",
       "      <td>30.0</td>\n",
       "      <td>0.0</td>\n",
       "      <td>40.0</td>\n",
       "      <td>0.0</td>\n",
       "      <td>no</td>\n",
       "      <td>0.0</td>\n",
       "      <td>...</td>\n",
       "      <td>41.0</td>\n",
       "      <td>I</td>\n",
       "      <td>9.81</td>\n",
       "      <td>33.0</td>\n",
       "      <td>105.5</td>\n",
       "      <td>6.0</td>\n",
       "      <td>NaN</td>\n",
       "      <td>NaN</td>\n",
       "      <td>NaN</td>\n",
       "      <td>10.0</td>\n",
       "    </tr>\n",
       "    <tr>\n",
       "      <th>...</th>\n",
       "      <td>...</td>\n",
       "      <td>...</td>\n",
       "      <td>...</td>\n",
       "      <td>...</td>\n",
       "      <td>...</td>\n",
       "      <td>...</td>\n",
       "      <td>...</td>\n",
       "      <td>...</td>\n",
       "      <td>...</td>\n",
       "      <td>...</td>\n",
       "      <td>...</td>\n",
       "      <td>...</td>\n",
       "      <td>...</td>\n",
       "      <td>...</td>\n",
       "      <td>...</td>\n",
       "      <td>...</td>\n",
       "      <td>...</td>\n",
       "      <td>...</td>\n",
       "      <td>...</td>\n",
       "      <td>...</td>\n",
       "      <td>...</td>\n",
       "    </tr>\n",
       "    <tr>\n",
       "      <th>133</th>\n",
       "      <td>NaN</td>\n",
       "      <td>NaN</td>\n",
       "      <td>NaN</td>\n",
       "      <td>NaN</td>\n",
       "      <td>NaN</td>\n",
       "      <td>NaN</td>\n",
       "      <td>NaN</td>\n",
       "      <td>NaN</td>\n",
       "      <td>NaN</td>\n",
       "      <td>NaN</td>\n",
       "      <td>...</td>\n",
       "      <td>NaN</td>\n",
       "      <td>NaN</td>\n",
       "      <td>NaN</td>\n",
       "      <td>NaN</td>\n",
       "      <td>NaN</td>\n",
       "      <td>NaN</td>\n",
       "      <td>NaN</td>\n",
       "      <td>17.0</td>\n",
       "      <td>15.0</td>\n",
       "      <td>NaN</td>\n",
       "    </tr>\n",
       "    <tr>\n",
       "      <th>134</th>\n",
       "      <td>NaN</td>\n",
       "      <td>NaN</td>\n",
       "      <td>NaN</td>\n",
       "      <td>NaN</td>\n",
       "      <td>NaN</td>\n",
       "      <td>NaN</td>\n",
       "      <td>NaN</td>\n",
       "      <td>NaN</td>\n",
       "      <td>NaN</td>\n",
       "      <td>NaN</td>\n",
       "      <td>...</td>\n",
       "      <td>NaN</td>\n",
       "      <td>NaN</td>\n",
       "      <td>NaN</td>\n",
       "      <td>NaN</td>\n",
       "      <td>NaN</td>\n",
       "      <td>NaN</td>\n",
       "      <td>NaN</td>\n",
       "      <td>21.0</td>\n",
       "      <td>12.0</td>\n",
       "      <td>NaN</td>\n",
       "    </tr>\n",
       "    <tr>\n",
       "      <th>135</th>\n",
       "      <td>NaN</td>\n",
       "      <td>NaN</td>\n",
       "      <td>NaN</td>\n",
       "      <td>NaN</td>\n",
       "      <td>NaN</td>\n",
       "      <td>NaN</td>\n",
       "      <td>NaN</td>\n",
       "      <td>NaN</td>\n",
       "      <td>NaN</td>\n",
       "      <td>NaN</td>\n",
       "      <td>...</td>\n",
       "      <td>NaN</td>\n",
       "      <td>NaN</td>\n",
       "      <td>NaN</td>\n",
       "      <td>NaN</td>\n",
       "      <td>NaN</td>\n",
       "      <td>NaN</td>\n",
       "      <td>NaN</td>\n",
       "      <td>18.0</td>\n",
       "      <td>18.0</td>\n",
       "      <td>NaN</td>\n",
       "    </tr>\n",
       "    <tr>\n",
       "      <th>136</th>\n",
       "      <td>NaN</td>\n",
       "      <td>NaN</td>\n",
       "      <td>NaN</td>\n",
       "      <td>NaN</td>\n",
       "      <td>NaN</td>\n",
       "      <td>NaN</td>\n",
       "      <td>NaN</td>\n",
       "      <td>NaN</td>\n",
       "      <td>NaN</td>\n",
       "      <td>NaN</td>\n",
       "      <td>...</td>\n",
       "      <td>NaN</td>\n",
       "      <td>NaN</td>\n",
       "      <td>NaN</td>\n",
       "      <td>NaN</td>\n",
       "      <td>NaN</td>\n",
       "      <td>NaN</td>\n",
       "      <td>NaN</td>\n",
       "      <td>14.0</td>\n",
       "      <td>14.0</td>\n",
       "      <td>NaN</td>\n",
       "    </tr>\n",
       "    <tr>\n",
       "      <th>137</th>\n",
       "      <td>NaN</td>\n",
       "      <td>NaN</td>\n",
       "      <td>NaN</td>\n",
       "      <td>NaN</td>\n",
       "      <td>NaN</td>\n",
       "      <td>NaN</td>\n",
       "      <td>NaN</td>\n",
       "      <td>NaN</td>\n",
       "      <td>NaN</td>\n",
       "      <td>NaN</td>\n",
       "      <td>...</td>\n",
       "      <td>NaN</td>\n",
       "      <td>NaN</td>\n",
       "      <td>NaN</td>\n",
       "      <td>NaN</td>\n",
       "      <td>NaN</td>\n",
       "      <td>NaN</td>\n",
       "      <td>NaN</td>\n",
       "      <td>12.0</td>\n",
       "      <td>0.0</td>\n",
       "      <td>NaN</td>\n",
       "    </tr>\n",
       "  </tbody>\n",
       "</table>\n",
       "<p>138 rows × 23 columns</p>\n",
       "</div>"
      ],
      "text/plain": [
       "    Misofonia  Misofonia.dic      Estado  Estado.dic  ansiedad.rasgo  \\\n",
       "0          si            4.0  divorciado         2.0            99.0   \n",
       "1          si            2.0      casado         1.0            75.0   \n",
       "2          no            0.0  divorciado         2.0            77.0   \n",
       "3          si            3.0      casado         1.0            95.0   \n",
       "4          no            0.0      casado         1.0            30.0   \n",
       "..        ...            ...         ...         ...             ...   \n",
       "133       NaN            NaN         NaN         NaN             NaN   \n",
       "134       NaN            NaN         NaN         NaN             NaN   \n",
       "135       NaN            NaN         NaN         NaN             NaN   \n",
       "136       NaN            NaN         NaN         NaN             NaN   \n",
       "137       NaN            NaN         NaN         NaN             NaN   \n",
       "\n",
       "     ansiedad.rasgo.dic  ansiedad.estado  ansiedad.estado.dic  \\\n",
       "0                   1.0             99.0                  1.0   \n",
       "1                   1.0             75.0                  1.0   \n",
       "2                   1.0             55.0                  0.0   \n",
       "3                   1.0             99.0                  1.0   \n",
       "4                   0.0             40.0                  0.0   \n",
       "..                  ...              ...                  ...   \n",
       "133                 NaN              NaN                  NaN   \n",
       "134                 NaN              NaN                  NaN   \n",
       "135                 NaN              NaN                  NaN   \n",
       "136                 NaN              NaN                  NaN   \n",
       "137                 NaN              NaN                  NaN   \n",
       "\n",
       "    ansiedad.medicada  ansiedad.medicada.dic  ...  Edad  CLASE  \\\n",
       "0                  no                    0.0  ...  44.0    III   \n",
       "1                  no                    0.0  ...  43.0     II   \n",
       "2                  no                    0.0  ...  24.0      I   \n",
       "3                  no                    0.0  ...  33.0    III   \n",
       "4                  no                    0.0  ...  41.0      I   \n",
       "..                ...                    ...  ...   ...    ...   \n",
       "133               NaN                    NaN  ...   NaN    NaN   \n",
       "134               NaN                    NaN  ...   NaN    NaN   \n",
       "135               NaN                    NaN  ...   NaN    NaN   \n",
       "136               NaN                    NaN  ...   NaN    NaN   \n",
       "137               NaN                    NaN  ...   NaN    NaN   \n",
       "\n",
       "    Angulo_convexidad  protusion.mandibular Angulo_cuelloYtercio  Subnasal_H  \\\n",
       "0                7.97                  13.0                 89.6         1.5   \n",
       "1               18.23                  -5.0                107.2         7.3   \n",
       "2               12.27                  11.5                101.4         5.0   \n",
       "3                7.81                  16.8                 75.3         2.7   \n",
       "4                9.81                  33.0                105.5         6.0   \n",
       "..                ...                   ...                  ...         ...   \n",
       "133               NaN                   NaN                  NaN         NaN   \n",
       "134               NaN                   NaN                  NaN         NaN   \n",
       "135               NaN                   NaN                  NaN         NaN   \n",
       "136               NaN                   NaN                  NaN         NaN   \n",
       "137               NaN                   NaN                  NaN         NaN   \n",
       "\n",
       "     cambio.autoconcepto  Misofonia.post  Misofonia.pre  ansiedad.dif  \n",
       "0                    1.0            21.0           14.0           0.0  \n",
       "1                    0.0            14.0           13.0           0.0  \n",
       "2                    NaN             NaN            NaN         -22.0  \n",
       "3                    1.0             NaN            NaN           4.0  \n",
       "4                    NaN             NaN            NaN          10.0  \n",
       "..                   ...             ...            ...           ...  \n",
       "133                  NaN            17.0           15.0           NaN  \n",
       "134                  NaN            21.0           12.0           NaN  \n",
       "135                  NaN            18.0           18.0           NaN  \n",
       "136                  NaN            14.0           14.0           NaN  \n",
       "137                  NaN            12.0            0.0           NaN  \n",
       "\n",
       "[138 rows x 23 columns]"
      ]
     },
     "execution_count": 2,
     "metadata": {},
     "output_type": "execute_result"
    }
   ],
   "source": [
    "# Load package with its corresponding alias\n",
    "import pandas as pd\n",
    "\n",
    "# Reading an Excel SpreadSheet and storing it in as a DataFrame called `df`\n",
    "# df = pd.read_excel('https://github.com/MMRES-PyBootcamp/MMRES-python-bootcamp2022/blob/main/datasets/misophoinia_data.xlsx?raw=true')\n",
    "df = pd.read_excel('https://github.com/MMRES-PyBootcamp/MMRES-python-bootcamp2024/raw/master/datasets/misophonia_data.xlsx')\n",
    "\n",
    "# Return the DataFrame\n",
    "df"
   ]
  },
  {
   "cell_type": "markdown",
   "metadata": {
    "id": "DicSHOp8RwrH"
   },
   "source": [
    "## Data description\n",
    "\n",
    "Here is the description of the variables\n",
    "\n",
    "[1] “Misofonia”: Binary (si: misophinic, no: no misophinic)\n",
    "\n",
    "[2] “Misofonia.dic”: Categorical (0: no misophinic, 1: severity 1, 2: severity 2, 3: severity 3, 4: severity 4)\n",
    "\n",
    "[3] “Estado”: Marital status (casado: married, soltero: single, viuda: widow, divorciado:divorced)\n",
    "\n",
    "[4] “Estado.dic”: Numeric Marital status\n",
    "\n",
    "[5] “ansiedad.rasgo”: Score from 0-100 with anxiety personality trait\n",
    "\n",
    "[6] “ansiedad.rasgo.dic”: Binary score (0,1) of anxiety personality trait\n",
    "\n",
    "[7] “ansiedad.estado”: Score from 0-100 with current state of anxiety\n",
    "\n",
    "[8] “ansiedad.estado.dic”: Binary score (0,1) with current state of anxiety\n",
    "\n",
    "[9] “ansiedad.medicada”: Diagnosed with anxiety disorder (si, no)\n",
    "\n",
    "[10] “ansiedad.medicada.dic”: Diagnosed with anxiety disorder (1, 0)\n",
    "\n",
    "[11] “depresion”: Score from 0-50 with current state of depression\n",
    "\n",
    "[12] “depresion.dic” : Binary score (0,1) with current state of depression\n",
    "\n",
    "[13] “Sexo”: Male=H, Female:M\n",
    "\n",
    "[14] “Edad”: Age\n",
    "\n",
    "[15] “CLASE”: Type of jaw\n",
    "\n",
    "[16] “Angulo_convexidad”: convexity angle\n",
    "\n",
    "[17] “protusion.mandibular”: Projection of the jaw [18] “Angulo_cuelloYtercio”: angle between jaw and neck [19] “Subnasal_H”: Nasal angle\n",
    "\n",
    "[20] “cambio.autoconcepto”: Whether people changed their self-concept after treatment.\n",
    "\n",
    "[21] “Misofonia.post”: Misophionia diagnosed (A-MISO) after an educational program, where patients were made aware of a condition called misophonia.\n",
    "\n",
    "[22] “Misofonia.pre”: Misophionia diagnosed (A-MISO) before an educational program, where patients were made aware of a condition called misophonia\n",
    "\n",
    "[23] “ansiedad.dif”: Difference between anxiety state and anxiety trait scores\n",
    "\n",
    "<br><br>\n",
    "\n",
    "When reporting the results of a study, we first describe the variables of interest in tables and figures.\n",
    "\n",
    "We describe demographics (sex, age, marital status, etc..)\n",
    "\n",
    "We describe outcome variables (misophonia)"
   ]
  },
  {
   "cell_type": "markdown",
   "metadata": {
    "id": "JP2ZK7Kr0YqX"
   },
   "source": [
    "## 1. Correlation\n",
    "\n",
    "Are the state and trait correlated?"
   ]
  },
  {
   "cell_type": "code",
   "execution_count": 4,
   "metadata": {
    "id": "bcEtDgM3RwrI"
   },
   "outputs": [
    {
     "data": {
      "text/plain": [
       "<Axes: xlabel='ansiedad.estado', ylabel='ansiedad.rasgo'>"
      ]
     },
     "execution_count": 4,
     "metadata": {},
     "output_type": "execute_result"
    },
    {
     "data": {
      "image/png": "[encoded data removed]",
      "text/plain": [
       "<Figure size 640x480 with 1 Axes>"
      ]
     },
     "metadata": {},
     "output_type": "display_data"
    }
   ],
   "source": [
    "sns.scatterplot(x=df['ansiedad.estado'], y=df['ansiedad.rasgo'])\n"
   ]
  },
  {
   "cell_type": "code",
   "execution_count": 6,
   "metadata": {
    "id": "8kb4KL43hL7k"
   },
   "outputs": [
    {
     "data": {
      "text/plain": [
       "<Axes: xlabel='ansiedad.estado', ylabel='ansiedad.rasgo'>"
      ]
     },
     "execution_count": 6,
     "metadata": {},
     "output_type": "execute_result"
    },
    {
     "data": {
      "image/png": "[encoded data removed]",
      "text/plain": [
       "<Figure size 640x480 with 1 Axes>"
      ]
     },
     "metadata": {},
     "output_type": "display_data"
    }
   ],
   "source": [
    "sns.regplot(x='ansiedad.estado', y='ansiedad.rasgo', data=df)\n"
   ]
  },
  {
   "cell_type": "code",
   "execution_count": 7,
   "metadata": {
    "id": "unso4LN6dNL4"
   },
   "outputs": [
    {
     "data": {
      "text/plain": [
       "0.9041608592851859"
      ]
     },
     "execution_count": 7,
     "metadata": {},
     "output_type": "execute_result"
    }
   ],
   "source": [
    "df['ansiedad.estado'].corr(df['ansiedad.rasgo'],method='pearson')"
   ]
  },
  {
   "cell_type": "code",
   "execution_count": 8,
   "metadata": {
    "id": "K9B3bpxtgZBC"
   },
   "outputs": [
    {
     "data": {
      "text/plain": [
       "LinregressResult(slope=nan, intercept=nan, rvalue=nan, pvalue=nan, stderr=nan, intercept_stderr=nan)"
      ]
     },
     "execution_count": 8,
     "metadata": {},
     "output_type": "execute_result"
    }
   ],
   "source": [
    "# what happens here?\n",
    "stats.linregress(df['ansiedad.estado'],df['ansiedad.rasgo'])"
   ]
  },
  {
   "cell_type": "code",
   "execution_count": 9,
   "metadata": {
    "id": "NQfqNMgfgn2a"
   },
   "outputs": [
    {
     "data": {
      "text/plain": [
       "LinregressResult(slope=0.8852595363554459, intercept=8.704259427458922, rvalue=0.9041608592851861, pvalue=1.6144910361829564e-46, stderr=0.03802379838485532, intercept_stderr=2.8140075434387404)"
      ]
     },
     "execution_count": 9,
     "metadata": {},
     "output_type": "execute_result"
    }
   ],
   "source": [
    "# Let's remove NA values\n",
    "mask = ~np.isnan(df['ansiedad.estado']) & ~np.isnan(df['ansiedad.rasgo'])\n",
    "stats.linregress(df[mask]['ansiedad.estado'],df[mask]['ansiedad.rasgo'])"
   ]
  },
  {
   "cell_type": "code",
   "execution_count": 10,
   "metadata": {
    "id": "RSzgQQcmf73r"
   },
   "outputs": [
    {
     "data": {
      "text/plain": [
       "<matplotlib.legend.Legend at 0x23cb9bf44d0>"
      ]
     },
     "execution_count": 10,
     "metadata": {},
     "output_type": "execute_result"
    },
    {
     "data": {
      "image/png": "[encoded data removed]",
      "text/plain": [
       "<Figure size 640x480 with 1 Axes>"
      ]
     },
     "metadata": {},
     "output_type": "display_data"
    }
   ],
   "source": [
    "slope, intercept, r_value, pv, se = stats.linregress(df[mask]['ansiedad.estado'],df[mask]['ansiedad.rasgo'])\n",
    "sns.regplot(x=\"ansiedad.estado\", y=\"ansiedad.rasgo\", data=df[mask], \n",
    "      ci=None, label=\"y={0:.2f}x+{1:.2f}\".format(slope, intercept)).legend(loc=\"best\")"
   ]
  },
  {
   "cell_type": "markdown",
   "metadata": {
    "id": "eoDF_0Q2h6vd"
   },
   "source": [
    "## Student’s t-test\n",
    "We are interested in the variable misofonia.dif, that is the observed excess of anxiety from the trait (excess=state−trait)\n",
    "\n",
    "Is excess in anxiety higher than 0?"
   ]
  },
  {
   "cell_type": "code",
   "execution_count": 11,
   "metadata": {
    "id": "o-8b9VQuieBm"
   },
   "outputs": [
    {
     "name": "stderr",
     "output_type": "stream",
     "text": [
      "C:\\Users\\andre\\AppData\\Local\\Temp\\ipykernel_9332\\3369299582.py:2: UserWarning: \n",
      "\n",
      "`distplot` is a deprecated function and will be removed in seaborn v0.14.0.\n",
      "\n",
      "Please adapt your code to use either `displot` (a figure-level function with\n",
      "similar flexibility) or `histplot` (an axes-level function for histograms).\n",
      "\n",
      "For a guide to updating your code to use the new functions, please see\n",
      "https://gist.github.com/mwaskom/de44147ed2974457ad6372750bbe5751\n",
      "\n",
      "  sns.distplot(df['excess'])\n"
     ]
    },
    {
     "data": {
      "text/plain": [
       "<matplotlib.lines.Line2D at 0x23cb717e420>"
      ]
     },
     "execution_count": 11,
     "metadata": {},
     "output_type": "execute_result"
    },
    {
     "data": {
      "image/png": "[encoded data removed]",
      "text/plain": [
       "<Figure size 640x480 with 1 Axes>"
      ]
     },
     "metadata": {},
     "output_type": "display_data"
    }
   ],
   "source": [
    "df['excess']=df['ansiedad.estado']-df['ansiedad.rasgo']\n",
    "sns.distplot(df['excess'])\n",
    "plt.axvline(0,color='r')"
   ]
  },
  {
   "cell_type": "code",
   "execution_count": 12,
   "metadata": {
    "id": "OVD-MmzYjDrl"
   },
   "outputs": [
    {
     "data": {
      "text/plain": [
       "count    123.000000\n",
       "mean      -0.918699\n",
       "std       12.866014\n",
       "min      -45.000000\n",
       "25%       -8.000000\n",
       "50%        0.000000\n",
       "75%        8.000000\n",
       "max       37.000000\n",
       "Name: excess, dtype: float64"
      ]
     },
     "execution_count": 12,
     "metadata": {},
     "output_type": "execute_result"
    }
   ],
   "source": [
    "df['excess'].describe()"
   ]
  },
  {
   "cell_type": "markdown",
   "metadata": {
    "id": "Phwm3AfWjaG1"
   },
   "source": [
    "scipy.stats.ttest_1samp() tests if the population mean of data is likely to be equal to a given value (technically if observations are drawn from a Gaussian distributions of given population mean). It returns the T statistic, and the p-value:"
   ]
  },
  {
   "cell_type": "code",
   "execution_count": 13,
   "metadata": {
    "id": "Iw_XW6owjLWl"
   },
   "outputs": [
    {
     "name": "stdout",
     "output_type": "stream",
     "text": [
      "nan\n"
     ]
    }
   ],
   "source": [
    "res=stats.ttest_1samp(df['excess'], 0) \n",
    "print (res[0])\n",
    "\n",
    "# What's wrong?"
   ]
  },
  {
   "cell_type": "code",
   "execution_count": 14,
   "metadata": {
    "id": "_XZucKCljkfR"
   },
   "outputs": [
    {
     "name": "stdout",
     "output_type": "stream",
     "text": [
      "TtestResult(statistic=-0.7919210074245916, pvalue=0.42994382746707327, df=122)\n"
     ]
    }
   ],
   "source": [
    "# let's remove missing values\n",
    "res=stats.ttest_1samp(df['excess'].dropna(), 0) \n",
    "print (res)\n"
   ]
  },
  {
   "cell_type": "code",
   "execution_count": 15,
   "metadata": {
    "id": "DFUnmxQGjrOI"
   },
   "outputs": [
    {
     "name": "stdout",
     "output_type": "stream",
     "text": [
      "TtestResult(statistic=-0.7919210074245916, pvalue=0.42994382746707327, df=122)\n"
     ]
    }
   ],
   "source": [
    "# or let's just ignore missing values\n",
    "res=stats.ttest_1samp(df['excess'], 0,nan_policy='omit') \n",
    "print (res)"
   ]
  },
  {
   "cell_type": "markdown",
   "metadata": {
    "id": "M66Owht9j65b"
   },
   "source": [
    "We do not see significant large values of the difference in anxiety; Enrollment in the study does not seem to detect individuals with an excess of anxiety.\n",
    "\n",
    "Is excess in anxiety higher than 0 for men and women separately?\n",
    "We first describe the conditional distributions\n",
    "\n"
   ]
  },
  {
   "cell_type": "code",
   "execution_count": null,
   "metadata": {
    "id": "nPBV2WZEj0TF"
   },
   "outputs": [],
   "source": [
    "sns.boxplot(data=df, y='excess',x='Sexo')\n"
   ]
  },
  {
   "cell_type": "markdown",
   "metadata": {
    "id": "OZVsqkV6kPOj"
   },
   "source": [
    "We perform the hypothesis test for each sex separately\n"
   ]
  },
  {
   "cell_type": "code",
   "execution_count": null,
   "metadata": {
    "id": "uNhfDCZVkOxu"
   },
   "outputs": [],
   "source": [
    "# Males\n",
    "res=stats.ttest_1samp(df[df['Sexo']=='H']['excess'], 0,nan_policy='omit') \n",
    "print (res)\n"
   ]
  },
  {
   "cell_type": "code",
   "execution_count": null,
   "metadata": {
    "id": "lEYw693gkYyC"
   },
   "outputs": [],
   "source": [
    "# Females\n",
    "res=stats.ttest_1samp(df[df['Sexo']=='M']['excess'], 0,nan_policy='omit') \n",
    "print (res)"
   ]
  },
  {
   "cell_type": "markdown",
   "metadata": {
    "id": "W14JDg5Jk3JG"
   },
   "source": [
    "## 2-sample t-test: testing for difference across populations"
   ]
  },
  {
   "cell_type": "markdown",
   "metadata": {
    "id": "PnKLaygzkn_z"
   },
   "source": [
    "We see that women (M) have a reduction in the excess of anxiety (almost significant), while men (H) had an increase (no significant). Why? perhaps because females tend to consult doctors before men do.\n",
    "\n",
    "Is the excess of anxiety significantly different between the sexes?\n",
    "\n",
    "To test if this is significant, we do a 2-sample t-test with scipy.stats.ttest_ind():"
   ]
  },
  {
   "cell_type": "code",
   "execution_count": null,
   "metadata": {
    "id": "Qje0mHX1lUoO"
   },
   "outputs": [],
   "source": [
    "female_excess = df[df['Sexo']=='M']['excess']\n",
    "male_excess = df[df['Sexo']=='H']['excess']\n",
    "stats.ttest_ind(female_excess, male_excess) "
   ]
  },
  {
   "cell_type": "markdown",
   "metadata": {
    "id": "B2D_-idolll5"
   },
   "source": [
    "We see that the difference between the group means is within the limit of significance with women having less excess anxiety than men.\n"
   ]
  },
  {
   "cell_type": "code",
   "execution_count": null,
   "metadata": {
    "id": "ajFq0ZVDlGvs"
   },
   "outputs": [],
   "source": [
    "sns.distplot(female_excess,hist=False,color='purple')\n",
    "sns.distplot(male_excess,hist=False,color='blue')\n"
   ]
  },
  {
   "cell_type": "markdown",
   "metadata": {
    "id": "F4Qgv_TFkpkn"
   },
   "source": [
    "## Lineal model\n",
    "Given two sets of observations, sex and excess of anxiety, we want to test the hypothesis that excess of anxiety is a linear function of sex.\n",
    "\n"
   ]
  },
  {
   "cell_type": "code",
   "execution_count": 16,
   "metadata": {
    "id": "ab3VB-jkmBdk"
   },
   "outputs": [
    {
     "name": "stdout",
     "output_type": "stream",
     "text": [
      "                            OLS Regression Results                            \n",
      "==============================================================================\n",
      "Dep. Variable:                 excess   R-squared:                       0.029\n",
      "Model:                            OLS   Adj. R-squared:                  0.021\n",
      "Method:                 Least Squares   F-statistic:                     3.560\n",
      "Date:                Mon, 30 Sep 2024   Prob (F-statistic):             0.0616\n",
      "Time:                        18:01:41   Log-Likelihood:                -486.46\n",
      "No. Observations:                 123   AIC:                             976.9\n",
      "Df Residuals:                     121   BIC:                             982.5\n",
      "Df Model:                           1                                         \n",
      "Covariance Type:            nonrobust                                         \n",
      "==============================================================================\n",
      "                 coef    std err          t      P>|t|      [0.025      0.975]\n",
      "------------------------------------------------------------------------------\n",
      "Intercept      1.9333      1.898      1.019      0.310      -1.825       5.691\n",
      "Sexo[T.M]     -4.4974      2.384     -1.887      0.062      -9.216       0.222\n",
      "==============================================================================\n",
      "Omnibus:                       10.296   Durbin-Watson:                   1.893\n",
      "Prob(Omnibus):                  0.006   Jarque-Bera (JB):               17.124\n",
      "Skew:                          -0.354   Prob(JB):                     0.000191\n",
      "Kurtosis:                       4.685   Cond. No.                         3.07\n",
      "==============================================================================\n",
      "\n",
      "Notes:\n",
      "[1] Standard Errors assume that the covariance matrix of the errors is correctly specified.\n"
     ]
    }
   ],
   "source": [
    "from statsmodels.formula.api import ols\n",
    "model = ols(\"excess ~ Sexo\", df).fit()\n",
    "print(model.summary())"
   ]
  },
  {
   "cell_type": "markdown",
   "metadata": {
    "id": "MDdba0KlmhcM"
   },
   "source": [
    "\n",
    "Is excess in anxiety higher in older people?\n"
   ]
  },
  {
   "cell_type": "code",
   "execution_count": 17,
   "metadata": {
    "id": "z_2BEVarm1ed"
   },
   "outputs": [
    {
     "data": {
      "text/plain": [
       "<Axes: xlabel='Edad', ylabel='excess'>"
      ]
     },
     "execution_count": 17,
     "metadata": {},
     "output_type": "execute_result"
    },
    {
     "data": {
      "image/png": "[encoded data removed]",
      "text/plain": [
       "<Figure size 640x480 with 1 Axes>"
      ]
     },
     "metadata": {},
     "output_type": "display_data"
    }
   ],
   "source": [
    "sns.regplot(data=df, x='Edad', y='excess')"
   ]
  },
  {
   "cell_type": "code",
   "execution_count": 18,
   "metadata": {
    "id": "p4hf9Op5nEhG"
   },
   "outputs": [
    {
     "name": "stdout",
     "output_type": "stream",
     "text": [
      "                            OLS Regression Results                            \n",
      "==============================================================================\n",
      "Dep. Variable:                 excess   R-squared:                       0.013\n",
      "Model:                            OLS   Adj. R-squared:                  0.005\n",
      "Method:                 Least Squares   F-statistic:                     1.615\n",
      "Date:                Mon, 30 Sep 2024   Prob (F-statistic):              0.206\n",
      "Time:                        18:01:47   Log-Likelihood:                -487.43\n",
      "No. Observations:                 123   AIC:                             978.9\n",
      "Df Residuals:                     121   BIC:                             984.5\n",
      "Df Model:                           1                                         \n",
      "Covariance Type:            nonrobust                                         \n",
      "==============================================================================\n",
      "                 coef    std err          t      P>|t|      [0.025      0.975]\n",
      "------------------------------------------------------------------------------\n",
      "Intercept     -5.4917      3.780     -1.453      0.149     -12.975       1.992\n",
      "Edad           0.1041      0.082      1.271      0.206      -0.058       0.266\n",
      "==============================================================================\n",
      "Omnibus:                       10.357   Durbin-Watson:                   1.825\n",
      "Prob(Omnibus):                  0.006   Jarque-Bera (JB):               15.348\n",
      "Skew:                          -0.411   Prob(JB):                     0.000465\n",
      "Kurtosis:                       4.523   Cond. No.                         151.\n",
      "==============================================================================\n",
      "\n",
      "Notes:\n",
      "[1] Standard Errors assume that the covariance matrix of the errors is correctly specified.\n"
     ]
    }
   ],
   "source": [
    "# We fit the regression model\n",
    "model = ols(\"excess ~ Edad\", df).fit()\n",
    "print(model.summary())"
   ]
  },
  {
   "cell_type": "markdown",
   "metadata": {
    "id": "2YZy-26hnVNX"
   },
   "source": [
    "The association, while positive it is not significant. What happens if we adjust by sex?\n",
    "\n"
   ]
  },
  {
   "cell_type": "code",
   "execution_count": 19,
   "metadata": {
    "id": "vuql0y7Znajf"
   },
   "outputs": [
    {
     "name": "stdout",
     "output_type": "stream",
     "text": [
      "                            OLS Regression Results                            \n",
      "==============================================================================\n",
      "Dep. Variable:                 excess   R-squared:                       0.050\n",
      "Model:                            OLS   Adj. R-squared:                  0.034\n",
      "Method:                 Least Squares   F-statistic:                     3.170\n",
      "Date:                Mon, 30 Sep 2024   Prob (F-statistic):             0.0455\n",
      "Time:                        18:01:52   Log-Likelihood:                -485.08\n",
      "No. Observations:                 123   AIC:                             976.2\n",
      "Df Residuals:                     120   BIC:                             984.6\n",
      "Df Model:                           2                                         \n",
      "Covariance Type:            nonrobust                                         \n",
      "==============================================================================\n",
      "                 coef    std err          t      P>|t|      [0.025      0.975]\n",
      "------------------------------------------------------------------------------\n",
      "Intercept     -3.5718      3.828     -0.933      0.353     -11.151       4.008\n",
      "Sexo[T.M]     -5.2002      2.405     -2.163      0.033      -9.961      -0.439\n",
      "Edad           0.1354      0.082      1.652      0.101      -0.027       0.298\n",
      "==============================================================================\n",
      "Omnibus:                        8.533   Durbin-Watson:                   1.909\n",
      "Prob(Omnibus):                  0.014   Jarque-Bera (JB):               11.047\n",
      "Skew:                          -0.384   Prob(JB):                      0.00399\n",
      "Kurtosis:                       4.251   Cond. No.                         158.\n",
      "==============================================================================\n",
      "\n",
      "Notes:\n",
      "[1] Standard Errors assume that the covariance matrix of the errors is correctly specified.\n"
     ]
    }
   ],
   "source": [
    "model = ols(\"excess ~ Edad + Sexo\", df).fit()\n",
    "print(model.summary())"
   ]
  },
  {
   "cell_type": "markdown",
   "metadata": {
    "id": "alJYhM4Kna8A"
   },
   "source": [
    "If we adjust by sex the association is a bit stronger but still not significant."
   ]
  },
  {
   "cell_type": "code",
   "execution_count": 20,
   "metadata": {
    "id": "P6X9wzXDnmbN"
   },
   "outputs": [
    {
     "data": {
      "text/plain": [
       "<seaborn.axisgrid.FacetGrid at 0x23cb997b530>"
      ]
     },
     "execution_count": 20,
     "metadata": {},
     "output_type": "execute_result"
    },
    {
     "data": {
      "image/png": "[encoded data removed]",
      "text/plain": [
       "<Figure size 562x500 with 1 Axes>"
      ]
     },
     "metadata": {},
     "output_type": "display_data"
    }
   ],
   "source": [
    "sns.lmplot(data=df, x='Edad', y='excess', hue='Sexo')"
   ]
  },
  {
   "cell_type": "markdown",
   "metadata": {
    "id": "pzCqUPNgn6gR"
   },
   "source": [
    "Is excess in anxiety different between monophonic grades?\n"
   ]
  },
  {
   "cell_type": "code",
   "execution_count": null,
   "metadata": {
    "id": "Kxp6yO0on_Pk"
   },
   "outputs": [],
   "source": [
    "sns.boxplot(data=df, y='excess',x= 'Misofonia.dic')"
   ]
  },
  {
   "cell_type": "markdown",
   "metadata": {
    "id": "p_sFcauPoOim"
   },
   "source": [
    "We test the hypothesizes H0: means excess of anxiety are equal accross misophonic categories against H1: at least one of them is different"
   ]
  },
  {
   "cell_type": "code",
   "execution_count": 21,
   "metadata": {
    "id": "ORUxV3jOofIf"
   },
   "outputs": [
    {
     "ename": "PatsyError",
     "evalue": "Error evaluating factor: AttributeError: 'Series' object has no attribute 'dic'\n    excess ~ Misofonia.dic\n             ^^^^^^^^^^^^^",
     "output_type": "error",
     "traceback": [
      "\u001b[1;31m---------------------------------------------------------------------------\u001b[0m",
      "\u001b[1;31mAttributeError\u001b[0m                            Traceback (most recent call last)",
      "\u001b[1;32mc:\\Users\\andre\\miniconda3\\envs\\MMRES_UPF\\Lib\\site-packages\\patsy\\compat.py\u001b[0m in \u001b[0;36m?\u001b[1;34m(msg, origin, f, *args, **kwargs)\u001b[0m\n\u001b[0;32m     41\u001b[0m                                  \u001b[0morigin\u001b[0m\u001b[1;33m)\u001b[0m\u001b[1;33m\u001b[0m\u001b[1;33m\u001b[0m\u001b[0m\n\u001b[0;32m     42\u001b[0m             \u001b[1;31m# Use 'exec' to hide this syntax from the Python 2 parser:\u001b[0m\u001b[1;33m\u001b[0m\u001b[1;33m\u001b[0m\u001b[0m\n\u001b[1;32m---> 43\u001b[1;33m             \u001b[0mexec\u001b[0m\u001b[1;33m(\u001b[0m\u001b[1;34m\"raise new_exc from e\"\u001b[0m\u001b[1;33m)\u001b[0m\u001b[1;33m\u001b[0m\u001b[1;33m\u001b[0m\u001b[0m\n\u001b[0m\u001b[0;32m     44\u001b[0m         \u001b[1;32melse\u001b[0m\u001b[1;33m:\u001b[0m\u001b[1;33m\u001b[0m\u001b[1;33m\u001b[0m\u001b[0m\n",
      "\u001b[1;32mc:\\Users\\andre\\miniconda3\\envs\\MMRES_UPF\\Lib\\site-packages\\patsy\\eval.py\u001b[0m in \u001b[0;36m?\u001b[1;34m(self, expr, source_name, inner_namespace)\u001b[0m\n\u001b[0;32m    167\u001b[0m         \"\"\"\n\u001b[0;32m    168\u001b[0m         \u001b[0mcode\u001b[0m \u001b[1;33m=\u001b[0m \u001b[0mcompile\u001b[0m\u001b[1;33m(\u001b[0m\u001b[0mexpr\u001b[0m\u001b[1;33m,\u001b[0m \u001b[0msource_name\u001b[0m\u001b[1;33m,\u001b[0m \u001b[1;34m\"eval\"\u001b[0m\u001b[1;33m,\u001b[0m \u001b[0mself\u001b[0m\u001b[1;33m.\u001b[0m\u001b[0mflags\u001b[0m\u001b[1;33m,\u001b[0m \u001b[1;32mFalse\u001b[0m\u001b[1;33m)\u001b[0m\u001b[1;33m\u001b[0m\u001b[1;33m\u001b[0m\u001b[0m\n\u001b[1;32m--> 169\u001b[1;33m         return eval(code, {}, VarLookupDict([inner_namespace]\n\u001b[0m\u001b[0;32m    170\u001b[0m                                             \u001b[1;33m+\u001b[0m \u001b[0mself\u001b[0m\u001b[1;33m.\u001b[0m\u001b[0m_namespaces\u001b[0m\u001b[1;33m)\u001b[0m\u001b[1;33m)\u001b[0m\u001b[1;33m\u001b[0m\u001b[1;33m\u001b[0m\u001b[0m\n",
      "\u001b[1;32m<string>\u001b[0m in \u001b[0;36m?\u001b[1;34m()\u001b[0m\n\u001b[1;32m----> 1\u001b[1;33m \u001b[1;34m'Could not get source, probably due dynamically evaluated source code.'\u001b[0m\u001b[1;33m\u001b[0m\u001b[1;33m\u001b[0m\u001b[0m\n\u001b[0m",
      "\u001b[1;32mc:\\Users\\andre\\miniconda3\\envs\\MMRES_UPF\\Lib\\site-packages\\pandas\\core\\generic.py\u001b[0m in \u001b[0;36m?\u001b[1;34m(self, name)\u001b[0m\n\u001b[0;32m   6297\u001b[0m         \u001b[1;33m)\u001b[0m\u001b[1;33m:\u001b[0m\u001b[1;33m\u001b[0m\u001b[1;33m\u001b[0m\u001b[0m\n\u001b[0;32m   6298\u001b[0m             \u001b[1;32mreturn\u001b[0m \u001b[0mself\u001b[0m\u001b[1;33m[\u001b[0m\u001b[0mname\u001b[0m\u001b[1;33m]\u001b[0m\u001b[1;33m\u001b[0m\u001b[1;33m\u001b[0m\u001b[0m\n\u001b[1;32m-> 6299\u001b[1;33m         \u001b[1;32mreturn\u001b[0m \u001b[0mobject\u001b[0m\u001b[1;33m.\u001b[0m\u001b[0m__getattribute__\u001b[0m\u001b[1;33m(\u001b[0m\u001b[0mself\u001b[0m\u001b[1;33m,\u001b[0m \u001b[0mname\u001b[0m\u001b[1;33m)\u001b[0m\u001b[1;33m\u001b[0m\u001b[1;33m\u001b[0m\u001b[0m\n\u001b[0m",
      "\u001b[1;31mAttributeError\u001b[0m: 'Series' object has no attribute 'dic'",
      "\nThe above exception was the direct cause of the following exception:\n",
      "\u001b[1;31mPatsyError\u001b[0m                                Traceback (most recent call last)",
      "Cell \u001b[1;32mIn[21], line 1\u001b[0m\n\u001b[1;32m----> 1\u001b[0m model \u001b[38;5;241m=\u001b[39m \u001b[43mols\u001b[49m\u001b[43m(\u001b[49m\u001b[38;5;124;43m\"\u001b[39;49m\u001b[38;5;124;43mexcess ~ Misofonia.dic\u001b[39;49m\u001b[38;5;124;43m\"\u001b[39;49m\u001b[43m,\u001b[49m\u001b[43m \u001b[49m\u001b[43mdf\u001b[49m\u001b[43m)\u001b[49m\u001b[38;5;241m.\u001b[39mfit()\n\u001b[0;32m      2\u001b[0m \u001b[38;5;28mprint\u001b[39m(model\u001b[38;5;241m.\u001b[39msummary())\n",
      "File \u001b[1;32mc:\\Users\\andre\\miniconda3\\envs\\MMRES_UPF\\Lib\\site-packages\\statsmodels\\base\\model.py:203\u001b[0m, in \u001b[0;36mModel.from_formula\u001b[1;34m(cls, formula, data, subset, drop_cols, *args, **kwargs)\u001b[0m\n\u001b[0;32m    200\u001b[0m \u001b[38;5;28;01mif\u001b[39;00m missing \u001b[38;5;241m==\u001b[39m \u001b[38;5;124m'\u001b[39m\u001b[38;5;124mnone\u001b[39m\u001b[38;5;124m'\u001b[39m:  \u001b[38;5;66;03m# with patsy it's drop or raise. let's raise.\u001b[39;00m\n\u001b[0;32m    201\u001b[0m     missing \u001b[38;5;241m=\u001b[39m \u001b[38;5;124m'\u001b[39m\u001b[38;5;124mraise\u001b[39m\u001b[38;5;124m'\u001b[39m\n\u001b[1;32m--> 203\u001b[0m tmp \u001b[38;5;241m=\u001b[39m \u001b[43mhandle_formula_data\u001b[49m\u001b[43m(\u001b[49m\u001b[43mdata\u001b[49m\u001b[43m,\u001b[49m\u001b[43m \u001b[49m\u001b[38;5;28;43;01mNone\u001b[39;49;00m\u001b[43m,\u001b[49m\u001b[43m \u001b[49m\u001b[43mformula\u001b[49m\u001b[43m,\u001b[49m\u001b[43m \u001b[49m\u001b[43mdepth\u001b[49m\u001b[38;5;241;43m=\u001b[39;49m\u001b[43meval_env\u001b[49m\u001b[43m,\u001b[49m\n\u001b[0;32m    204\u001b[0m \u001b[43m                          \u001b[49m\u001b[43mmissing\u001b[49m\u001b[38;5;241;43m=\u001b[39;49m\u001b[43mmissing\u001b[49m\u001b[43m)\u001b[49m\n\u001b[0;32m    205\u001b[0m ((endog, exog), missing_idx, design_info) \u001b[38;5;241m=\u001b[39m tmp\n\u001b[0;32m    206\u001b[0m max_endog \u001b[38;5;241m=\u001b[39m \u001b[38;5;28mcls\u001b[39m\u001b[38;5;241m.\u001b[39m_formula_max_endog\n",
      "File \u001b[1;32mc:\\Users\\andre\\miniconda3\\envs\\MMRES_UPF\\Lib\\site-packages\\statsmodels\\formula\\formulatools.py:63\u001b[0m, in \u001b[0;36mhandle_formula_data\u001b[1;34m(Y, X, formula, depth, missing)\u001b[0m\n\u001b[0;32m     61\u001b[0m \u001b[38;5;28;01melse\u001b[39;00m:\n\u001b[0;32m     62\u001b[0m     \u001b[38;5;28;01mif\u001b[39;00m data_util\u001b[38;5;241m.\u001b[39m_is_using_pandas(Y, \u001b[38;5;28;01mNone\u001b[39;00m):\n\u001b[1;32m---> 63\u001b[0m         result \u001b[38;5;241m=\u001b[39m \u001b[43mdmatrices\u001b[49m\u001b[43m(\u001b[49m\u001b[43mformula\u001b[49m\u001b[43m,\u001b[49m\u001b[43m \u001b[49m\u001b[43mY\u001b[49m\u001b[43m,\u001b[49m\u001b[43m \u001b[49m\u001b[43mdepth\u001b[49m\u001b[43m,\u001b[49m\u001b[43m \u001b[49m\u001b[43mreturn_type\u001b[49m\u001b[38;5;241;43m=\u001b[39;49m\u001b[38;5;124;43m'\u001b[39;49m\u001b[38;5;124;43mdataframe\u001b[39;49m\u001b[38;5;124;43m'\u001b[39;49m\u001b[43m,\u001b[49m\n\u001b[0;32m     64\u001b[0m \u001b[43m                           \u001b[49m\u001b[43mNA_action\u001b[49m\u001b[38;5;241;43m=\u001b[39;49m\u001b[43mna_action\u001b[49m\u001b[43m)\u001b[49m\n\u001b[0;32m     65\u001b[0m     \u001b[38;5;28;01melse\u001b[39;00m:\n\u001b[0;32m     66\u001b[0m         result \u001b[38;5;241m=\u001b[39m dmatrices(formula, Y, depth, return_type\u001b[38;5;241m=\u001b[39m\u001b[38;5;124m'\u001b[39m\u001b[38;5;124mdataframe\u001b[39m\u001b[38;5;124m'\u001b[39m,\n\u001b[0;32m     67\u001b[0m                            NA_action\u001b[38;5;241m=\u001b[39mna_action)\n",
      "File \u001b[1;32mc:\\Users\\andre\\miniconda3\\envs\\MMRES_UPF\\Lib\\site-packages\\patsy\\highlevel.py:309\u001b[0m, in \u001b[0;36mdmatrices\u001b[1;34m(formula_like, data, eval_env, NA_action, return_type)\u001b[0m\n\u001b[0;32m    299\u001b[0m \u001b[38;5;250m\u001b[39m\u001b[38;5;124;03m\"\"\"Construct two design matrices given a formula_like and data.\u001b[39;00m\n\u001b[0;32m    300\u001b[0m \n\u001b[0;32m    301\u001b[0m \u001b[38;5;124;03mThis function is identical to :func:`dmatrix`, except that it requires\u001b[39;00m\n\u001b[1;32m   (...)\u001b[0m\n\u001b[0;32m    306\u001b[0m \u001b[38;5;124;03mSee :func:`dmatrix` for details.\u001b[39;00m\n\u001b[0;32m    307\u001b[0m \u001b[38;5;124;03m\"\"\"\u001b[39;00m\n\u001b[0;32m    308\u001b[0m eval_env \u001b[38;5;241m=\u001b[39m EvalEnvironment\u001b[38;5;241m.\u001b[39mcapture(eval_env, reference\u001b[38;5;241m=\u001b[39m\u001b[38;5;241m1\u001b[39m)\n\u001b[1;32m--> 309\u001b[0m (lhs, rhs) \u001b[38;5;241m=\u001b[39m \u001b[43m_do_highlevel_design\u001b[49m\u001b[43m(\u001b[49m\u001b[43mformula_like\u001b[49m\u001b[43m,\u001b[49m\u001b[43m \u001b[49m\u001b[43mdata\u001b[49m\u001b[43m,\u001b[49m\u001b[43m \u001b[49m\u001b[43meval_env\u001b[49m\u001b[43m,\u001b[49m\n\u001b[0;32m    310\u001b[0m \u001b[43m                                  \u001b[49m\u001b[43mNA_action\u001b[49m\u001b[43m,\u001b[49m\u001b[43m \u001b[49m\u001b[43mreturn_type\u001b[49m\u001b[43m)\u001b[49m\n\u001b[0;32m    311\u001b[0m \u001b[38;5;28;01mif\u001b[39;00m lhs\u001b[38;5;241m.\u001b[39mshape[\u001b[38;5;241m1\u001b[39m] \u001b[38;5;241m==\u001b[39m \u001b[38;5;241m0\u001b[39m:\n\u001b[0;32m    312\u001b[0m     \u001b[38;5;28;01mraise\u001b[39;00m PatsyError(\u001b[38;5;124m\"\u001b[39m\u001b[38;5;124mmodel is missing required outcome variables\u001b[39m\u001b[38;5;124m\"\u001b[39m)\n",
      "File \u001b[1;32mc:\\Users\\andre\\miniconda3\\envs\\MMRES_UPF\\Lib\\site-packages\\patsy\\highlevel.py:164\u001b[0m, in \u001b[0;36m_do_highlevel_design\u001b[1;34m(formula_like, data, eval_env, NA_action, return_type)\u001b[0m\n\u001b[0;32m    162\u001b[0m \u001b[38;5;28;01mdef\u001b[39;00m \u001b[38;5;21mdata_iter_maker\u001b[39m():\n\u001b[0;32m    163\u001b[0m     \u001b[38;5;28;01mreturn\u001b[39;00m \u001b[38;5;28miter\u001b[39m([data])\n\u001b[1;32m--> 164\u001b[0m design_infos \u001b[38;5;241m=\u001b[39m \u001b[43m_try_incr_builders\u001b[49m\u001b[43m(\u001b[49m\u001b[43mformula_like\u001b[49m\u001b[43m,\u001b[49m\u001b[43m \u001b[49m\u001b[43mdata_iter_maker\u001b[49m\u001b[43m,\u001b[49m\u001b[43m \u001b[49m\u001b[43meval_env\u001b[49m\u001b[43m,\u001b[49m\n\u001b[0;32m    165\u001b[0m \u001b[43m                                  \u001b[49m\u001b[43mNA_action\u001b[49m\u001b[43m)\u001b[49m\n\u001b[0;32m    166\u001b[0m \u001b[38;5;28;01mif\u001b[39;00m design_infos \u001b[38;5;129;01mis\u001b[39;00m \u001b[38;5;129;01mnot\u001b[39;00m \u001b[38;5;28;01mNone\u001b[39;00m:\n\u001b[0;32m    167\u001b[0m     \u001b[38;5;28;01mreturn\u001b[39;00m build_design_matrices(design_infos, data,\n\u001b[0;32m    168\u001b[0m                                  NA_action\u001b[38;5;241m=\u001b[39mNA_action,\n\u001b[0;32m    169\u001b[0m                                  return_type\u001b[38;5;241m=\u001b[39mreturn_type)\n",
      "File \u001b[1;32mc:\\Users\\andre\\miniconda3\\envs\\MMRES_UPF\\Lib\\site-packages\\patsy\\highlevel.py:66\u001b[0m, in \u001b[0;36m_try_incr_builders\u001b[1;34m(formula_like, data_iter_maker, eval_env, NA_action)\u001b[0m\n\u001b[0;32m     64\u001b[0m \u001b[38;5;28;01mif\u001b[39;00m \u001b[38;5;28misinstance\u001b[39m(formula_like, ModelDesc):\n\u001b[0;32m     65\u001b[0m     \u001b[38;5;28;01massert\u001b[39;00m \u001b[38;5;28misinstance\u001b[39m(eval_env, EvalEnvironment)\n\u001b[1;32m---> 66\u001b[0m     \u001b[38;5;28;01mreturn\u001b[39;00m \u001b[43mdesign_matrix_builders\u001b[49m\u001b[43m(\u001b[49m\u001b[43m[\u001b[49m\u001b[43mformula_like\u001b[49m\u001b[38;5;241;43m.\u001b[39;49m\u001b[43mlhs_termlist\u001b[49m\u001b[43m,\u001b[49m\n\u001b[0;32m     67\u001b[0m \u001b[43m                                   \u001b[49m\u001b[43mformula_like\u001b[49m\u001b[38;5;241;43m.\u001b[39;49m\u001b[43mrhs_termlist\u001b[49m\u001b[43m]\u001b[49m\u001b[43m,\u001b[49m\n\u001b[0;32m     68\u001b[0m \u001b[43m                                  \u001b[49m\u001b[43mdata_iter_maker\u001b[49m\u001b[43m,\u001b[49m\n\u001b[0;32m     69\u001b[0m \u001b[43m                                  \u001b[49m\u001b[43meval_env\u001b[49m\u001b[43m,\u001b[49m\n\u001b[0;32m     70\u001b[0m \u001b[43m                                  \u001b[49m\u001b[43mNA_action\u001b[49m\u001b[43m)\u001b[49m\n\u001b[0;32m     71\u001b[0m \u001b[38;5;28;01melse\u001b[39;00m:\n\u001b[0;32m     72\u001b[0m     \u001b[38;5;28;01mreturn\u001b[39;00m \u001b[38;5;28;01mNone\u001b[39;00m\n",
      "File \u001b[1;32mc:\\Users\\andre\\miniconda3\\envs\\MMRES_UPF\\Lib\\site-packages\\patsy\\build.py:693\u001b[0m, in \u001b[0;36mdesign_matrix_builders\u001b[1;34m(termlists, data_iter_maker, eval_env, NA_action)\u001b[0m\n\u001b[0;32m    689\u001b[0m factor_states \u001b[38;5;241m=\u001b[39m _factors_memorize(all_factors, data_iter_maker, eval_env)\n\u001b[0;32m    690\u001b[0m \u001b[38;5;66;03m# Now all the factors have working eval methods, so we can evaluate them\u001b[39;00m\n\u001b[0;32m    691\u001b[0m \u001b[38;5;66;03m# on some data to find out what type of data they return.\u001b[39;00m\n\u001b[0;32m    692\u001b[0m (num_column_counts,\n\u001b[1;32m--> 693\u001b[0m  cat_levels_contrasts) \u001b[38;5;241m=\u001b[39m \u001b[43m_examine_factor_types\u001b[49m\u001b[43m(\u001b[49m\u001b[43mall_factors\u001b[49m\u001b[43m,\u001b[49m\n\u001b[0;32m    694\u001b[0m \u001b[43m                                               \u001b[49m\u001b[43mfactor_states\u001b[49m\u001b[43m,\u001b[49m\n\u001b[0;32m    695\u001b[0m \u001b[43m                                               \u001b[49m\u001b[43mdata_iter_maker\u001b[49m\u001b[43m,\u001b[49m\n\u001b[0;32m    696\u001b[0m \u001b[43m                                               \u001b[49m\u001b[43mNA_action\u001b[49m\u001b[43m)\u001b[49m\n\u001b[0;32m    697\u001b[0m \u001b[38;5;66;03m# Now we need the factor infos, which encapsulate the knowledge of\u001b[39;00m\n\u001b[0;32m    698\u001b[0m \u001b[38;5;66;03m# how to turn any given factor into a chunk of data:\u001b[39;00m\n\u001b[0;32m    699\u001b[0m factor_infos \u001b[38;5;241m=\u001b[39m {}\n",
      "File \u001b[1;32mc:\\Users\\andre\\miniconda3\\envs\\MMRES_UPF\\Lib\\site-packages\\patsy\\build.py:443\u001b[0m, in \u001b[0;36m_examine_factor_types\u001b[1;34m(factors, factor_states, data_iter_maker, NA_action)\u001b[0m\n\u001b[0;32m    441\u001b[0m \u001b[38;5;28;01mfor\u001b[39;00m data \u001b[38;5;129;01min\u001b[39;00m data_iter_maker():\n\u001b[0;32m    442\u001b[0m     \u001b[38;5;28;01mfor\u001b[39;00m factor \u001b[38;5;129;01min\u001b[39;00m \u001b[38;5;28mlist\u001b[39m(examine_needed):\n\u001b[1;32m--> 443\u001b[0m         value \u001b[38;5;241m=\u001b[39m \u001b[43mfactor\u001b[49m\u001b[38;5;241;43m.\u001b[39;49m\u001b[43meval\u001b[49m\u001b[43m(\u001b[49m\u001b[43mfactor_states\u001b[49m\u001b[43m[\u001b[49m\u001b[43mfactor\u001b[49m\u001b[43m]\u001b[49m\u001b[43m,\u001b[49m\u001b[43m \u001b[49m\u001b[43mdata\u001b[49m\u001b[43m)\u001b[49m\n\u001b[0;32m    444\u001b[0m         \u001b[38;5;28;01mif\u001b[39;00m factor \u001b[38;5;129;01min\u001b[39;00m cat_sniffers \u001b[38;5;129;01mor\u001b[39;00m guess_categorical(value):\n\u001b[0;32m    445\u001b[0m             \u001b[38;5;28;01mif\u001b[39;00m factor \u001b[38;5;129;01mnot\u001b[39;00m \u001b[38;5;129;01min\u001b[39;00m cat_sniffers:\n",
      "File \u001b[1;32mc:\\Users\\andre\\miniconda3\\envs\\MMRES_UPF\\Lib\\site-packages\\patsy\\eval.py:568\u001b[0m, in \u001b[0;36mEvalFactor.eval\u001b[1;34m(self, memorize_state, data)\u001b[0m\n\u001b[0;32m    567\u001b[0m \u001b[38;5;28;01mdef\u001b[39;00m \u001b[38;5;21meval\u001b[39m(\u001b[38;5;28mself\u001b[39m, memorize_state, data):\n\u001b[1;32m--> 568\u001b[0m     \u001b[38;5;28;01mreturn\u001b[39;00m \u001b[38;5;28;43mself\u001b[39;49m\u001b[38;5;241;43m.\u001b[39;49m\u001b[43m_eval\u001b[49m\u001b[43m(\u001b[49m\u001b[43mmemorize_state\u001b[49m\u001b[43m[\u001b[49m\u001b[38;5;124;43m\"\u001b[39;49m\u001b[38;5;124;43meval_code\u001b[39;49m\u001b[38;5;124;43m\"\u001b[39;49m\u001b[43m]\u001b[49m\u001b[43m,\u001b[49m\n\u001b[0;32m    569\u001b[0m \u001b[43m                      \u001b[49m\u001b[43mmemorize_state\u001b[49m\u001b[43m,\u001b[49m\n\u001b[0;32m    570\u001b[0m \u001b[43m                      \u001b[49m\u001b[43mdata\u001b[49m\u001b[43m)\u001b[49m\n",
      "File \u001b[1;32mc:\\Users\\andre\\miniconda3\\envs\\MMRES_UPF\\Lib\\site-packages\\patsy\\eval.py:551\u001b[0m, in \u001b[0;36mEvalFactor._eval\u001b[1;34m(self, code, memorize_state, data)\u001b[0m\n\u001b[0;32m    549\u001b[0m \u001b[38;5;28;01mdef\u001b[39;00m \u001b[38;5;21m_eval\u001b[39m(\u001b[38;5;28mself\u001b[39m, code, memorize_state, data):\n\u001b[0;32m    550\u001b[0m     inner_namespace \u001b[38;5;241m=\u001b[39m VarLookupDict([data, memorize_state[\u001b[38;5;124m\"\u001b[39m\u001b[38;5;124mtransforms\u001b[39m\u001b[38;5;124m\"\u001b[39m]])\n\u001b[1;32m--> 551\u001b[0m     \u001b[38;5;28;01mreturn\u001b[39;00m \u001b[43mcall_and_wrap_exc\u001b[49m\u001b[43m(\u001b[49m\u001b[38;5;124;43m\"\u001b[39;49m\u001b[38;5;124;43mError evaluating factor\u001b[39;49m\u001b[38;5;124;43m\"\u001b[39;49m\u001b[43m,\u001b[49m\n\u001b[0;32m    552\u001b[0m \u001b[43m                             \u001b[49m\u001b[38;5;28;43mself\u001b[39;49m\u001b[43m,\u001b[49m\n\u001b[0;32m    553\u001b[0m \u001b[43m                             \u001b[49m\u001b[43mmemorize_state\u001b[49m\u001b[43m[\u001b[49m\u001b[38;5;124;43m\"\u001b[39;49m\u001b[38;5;124;43meval_env\u001b[39;49m\u001b[38;5;124;43m\"\u001b[39;49m\u001b[43m]\u001b[49m\u001b[38;5;241;43m.\u001b[39;49m\u001b[43meval\u001b[49m\u001b[43m,\u001b[49m\n\u001b[0;32m    554\u001b[0m \u001b[43m                             \u001b[49m\u001b[43mcode\u001b[49m\u001b[43m,\u001b[49m\n\u001b[0;32m    555\u001b[0m \u001b[43m                             \u001b[49m\u001b[43minner_namespace\u001b[49m\u001b[38;5;241;43m=\u001b[39;49m\u001b[43minner_namespace\u001b[49m\u001b[43m)\u001b[49m\n",
      "File \u001b[1;32mc:\\Users\\andre\\miniconda3\\envs\\MMRES_UPF\\Lib\\site-packages\\patsy\\compat.py:43\u001b[0m, in \u001b[0;36mcall_and_wrap_exc\u001b[1;34m(msg, origin, f, *args, **kwargs)\u001b[0m\n\u001b[0;32m     39\u001b[0m     new_exc \u001b[38;5;241m=\u001b[39m PatsyError(\u001b[38;5;124m\"\u001b[39m\u001b[38;5;132;01m%s\u001b[39;00m\u001b[38;5;124m: \u001b[39m\u001b[38;5;132;01m%s\u001b[39;00m\u001b[38;5;124m: \u001b[39m\u001b[38;5;132;01m%s\u001b[39;00m\u001b[38;5;124m\"\u001b[39m\n\u001b[0;32m     40\u001b[0m                          \u001b[38;5;241m%\u001b[39m (msg, e\u001b[38;5;241m.\u001b[39m\u001b[38;5;18m__class__\u001b[39m\u001b[38;5;241m.\u001b[39m\u001b[38;5;18m__name__\u001b[39m, e),\n\u001b[0;32m     41\u001b[0m                          origin)\n\u001b[0;32m     42\u001b[0m     \u001b[38;5;66;03m# Use 'exec' to hide this syntax from the Python 2 parser:\u001b[39;00m\n\u001b[1;32m---> 43\u001b[0m     \u001b[43mexec\u001b[49m\u001b[43m(\u001b[49m\u001b[38;5;124;43m\"\u001b[39;49m\u001b[38;5;124;43mraise new_exc from e\u001b[39;49m\u001b[38;5;124;43m\"\u001b[39;49m\u001b[43m)\u001b[49m\n\u001b[0;32m     44\u001b[0m \u001b[38;5;28;01melse\u001b[39;00m:\n\u001b[0;32m     45\u001b[0m     \u001b[38;5;66;03m# In python 2, we just let the original exception escape -- better\u001b[39;00m\n\u001b[0;32m     46\u001b[0m     \u001b[38;5;66;03m# than destroying the traceback. But if it's a PatsyError, we can\u001b[39;00m\n\u001b[0;32m     47\u001b[0m     \u001b[38;5;66;03m# at least set the origin properly.\u001b[39;00m\n\u001b[0;32m     48\u001b[0m     \u001b[38;5;28;01mif\u001b[39;00m \u001b[38;5;28misinstance\u001b[39m(e, PatsyError):\n",
      "File \u001b[1;32m<string>:1\u001b[0m\n",
      "\u001b[1;31mPatsyError\u001b[0m: Error evaluating factor: AttributeError: 'Series' object has no attribute 'dic'\n    excess ~ Misofonia.dic\n             ^^^^^^^^^^^^^"
     ]
    }
   ],
   "source": [
    "model = ols(\"excess ~ Misofonia.dic\", df).fit()\n",
    "print(model.summary())"
   ]
  },
  {
   "cell_type": "code",
   "execution_count": 22,
   "metadata": {
    "id": "9-c5ZlTKoy1Q"
   },
   "outputs": [
    {
     "name": "stdout",
     "output_type": "stream",
     "text": [
      "                            OLS Regression Results                            \n",
      "==============================================================================\n",
      "Dep. Variable:                 excess   R-squared:                       0.041\n",
      "Model:                            OLS   Adj. R-squared:                  0.033\n",
      "Method:                 Least Squares   F-statistic:                     5.177\n",
      "Date:                Mon, 30 Sep 2024   Prob (F-statistic):             0.0246\n",
      "Time:                        18:02:59   Log-Likelihood:                -485.67\n",
      "No. Observations:                 123   AIC:                             975.3\n",
      "Df Residuals:                     121   BIC:                             981.0\n",
      "Df Model:                           1                                         \n",
      "Covariance Type:            nonrobust                                         \n",
      "==============================================================================\n",
      "                 coef    std err          t      P>|t|      [0.025      0.975]\n",
      "------------------------------------------------------------------------------\n",
      "Intercept     -4.1694      1.828     -2.281      0.024      -7.789      -0.550\n",
      "misophonic     1.9223      0.845      2.275      0.025       0.250       3.595\n",
      "==============================================================================\n",
      "Omnibus:                        7.917   Durbin-Watson:                   1.869\n",
      "Prob(Omnibus):                  0.019   Jarque-Bera (JB):               14.747\n",
      "Skew:                          -0.130   Prob(JB):                     0.000628\n",
      "Kurtosis:                       4.676   Cond. No.                         3.96\n",
      "==============================================================================\n",
      "\n",
      "Notes:\n",
      "[1] Standard Errors assume that the covariance matrix of the errors is correctly specified.\n"
     ]
    }
   ],
   "source": [
    "# what happened here!!??\n",
    "# OLS has some requirements regarding variable names... it is a bit picky...\n",
    "\n",
    "# let's rename this variable:\n",
    "df=df.rename(columns={'Misofonia.dic':'misophonic'})\n",
    "\n",
    "# or alternatively you can just create an additional column with a different name\n",
    "#df['misophonic']=df['Misophonia.dic']\n",
    "\n",
    "model = ols(\"excess ~ misophonic\", df).fit()\n",
    "print(model.summary())"
   ]
  },
  {
   "cell_type": "markdown",
   "metadata": {
    "id": "hbQMLaOmwG8A"
   },
   "source": [
    "Notice that misophonic variable was treated as a quantitative trait and not as a categorical factor"
   ]
  },
  {
   "cell_type": "code",
   "execution_count": 23,
   "metadata": {
    "id": "3MYq0_XrwCY7"
   },
   "outputs": [
    {
     "name": "stdout",
     "output_type": "stream",
     "text": [
      "                            OLS Regression Results                            \n",
      "==============================================================================\n",
      "Dep. Variable:                 excess   R-squared:                       0.095\n",
      "Model:                            OLS   Adj. R-squared:                  0.064\n",
      "Method:                 Least Squares   F-statistic:                     3.090\n",
      "Date:                Mon, 30 Sep 2024   Prob (F-statistic):             0.0185\n",
      "Time:                        18:03:15   Log-Likelihood:                -482.11\n",
      "No. Observations:                 123   AIC:                             974.2\n",
      "Df Residuals:                     118   BIC:                             988.3\n",
      "Df Model:                           4                                         \n",
      "Covariance Type:            nonrobust                                         \n",
      "=====================================================================================\n",
      "                        coef    std err          t      P>|t|      [0.025      0.975]\n",
      "-------------------------------------------------------------------------------------\n",
      "Intercept            -5.0976      1.944     -2.622      0.010      -8.947      -1.248\n",
      "misophonic[T.1.0]    17.0976      5.896      2.900      0.004       5.422      28.773\n",
      "misophonic[T.2.0]     3.8543      2.822      1.366      0.175      -1.735       9.443\n",
      "misophonic[T.3.0]     6.9040      2.962      2.331      0.021       1.038      12.770\n",
      "misophonic[T.4.0]     7.9864      4.582      1.743      0.084      -1.086      17.059\n",
      "==============================================================================\n",
      "Omnibus:                        7.729   Durbin-Watson:                   1.983\n",
      "Prob(Omnibus):                  0.021   Jarque-Bera (JB):               11.430\n",
      "Skew:                          -0.274   Prob(JB):                      0.00330\n",
      "Kurtosis:                       4.389   Cond. No.                         6.00\n",
      "==============================================================================\n",
      "\n",
      "Notes:\n",
      "[1] Standard Errors assume that the covariance matrix of the errors is correctly specified.\n"
     ]
    }
   ],
   "source": [
    "df['misophonic']=df['misophonic'].astype('category')\n",
    "model = ols(\"excess ~ misophonic\", df).fit()\n",
    "print(model.summary())"
   ]
  },
  {
   "cell_type": "code",
   "execution_count": 24,
   "metadata": {
    "id": "SWz7hFBFoqHi"
   },
   "outputs": [
    {
     "data": {
      "text/html": [
       "<div>\n",
       "<style scoped>\n",
       "    .dataframe tbody tr th:only-of-type {\n",
       "        vertical-align: middle;\n",
       "    }\n",
       "\n",
       "    .dataframe tbody tr th {\n",
       "        vertical-align: top;\n",
       "    }\n",
       "\n",
       "    .dataframe thead th {\n",
       "        text-align: right;\n",
       "    }\n",
       "</style>\n",
       "<table border=\"1\" class=\"dataframe\">\n",
       "  <thead>\n",
       "    <tr style=\"text-align: right;\">\n",
       "      <th></th>\n",
       "      <th>df</th>\n",
       "      <th>sum_sq</th>\n",
       "      <th>mean_sq</th>\n",
       "      <th>F</th>\n",
       "      <th>PR(&gt;F)</th>\n",
       "    </tr>\n",
       "  </thead>\n",
       "  <tbody>\n",
       "    <tr>\n",
       "      <th>misophonic</th>\n",
       "      <td>4.0</td>\n",
       "      <td>1915.038826</td>\n",
       "      <td>478.759707</td>\n",
       "      <td>3.090437</td>\n",
       "      <td>0.018466</td>\n",
       "    </tr>\n",
       "    <tr>\n",
       "      <th>Residual</th>\n",
       "      <td>118.0</td>\n",
       "      <td>18280.148165</td>\n",
       "      <td>154.916510</td>\n",
       "      <td>NaN</td>\n",
       "      <td>NaN</td>\n",
       "    </tr>\n",
       "  </tbody>\n",
       "</table>\n",
       "</div>"
      ],
      "text/plain": [
       "               df        sum_sq     mean_sq         F    PR(>F)\n",
       "misophonic    4.0   1915.038826  478.759707  3.090437  0.018466\n",
       "Residual    118.0  18280.148165  154.916510       NaN       NaN"
      ]
     },
     "execution_count": 24,
     "metadata": {},
     "output_type": "execute_result"
    }
   ],
   "source": [
    "from statsmodels.stats import anova\n",
    "anova.anova_lm(model)"
   ]
  },
  {
   "cell_type": "markdown",
   "metadata": {
    "id": "b1J-GrVYxPm_"
   },
   "source": [
    "We see that anxiety excess of misophonia grade 1 is significantly higher than misophonia grade 0 (no misophonia), as it is grade 3. The ANOVA table shows that we accept the alternative hypothesis, where the differences between groups are significantly higher than within groups.\n",
    "\n",
    "Are the differences in excess in anxiety between monophonic grades modulated by sex?\n"
   ]
  },
  {
   "cell_type": "code",
   "execution_count": 25,
   "metadata": {
    "id": "Q9sHChIbxPLN"
   },
   "outputs": [
    {
     "data": {
      "text/plain": [
       "<Axes: xlabel='misophonic', ylabel='excess'>"
      ]
     },
     "execution_count": 25,
     "metadata": {},
     "output_type": "execute_result"
    },
    {
     "data": {
      "image/png": "[encoded data removed]",
      "text/plain": [
       "<Figure size 640x480 with 1 Axes>"
      ]
     },
     "metadata": {},
     "output_type": "display_data"
    }
   ],
   "source": [
    "sns.boxplot(data=df, y='excess',x='misophonic',hue='Sexo')\n",
    "#boxplot(excess ~ misophonic, subset = which(sex==\"H\"))"
   ]
  },
  {
   "cell_type": "code",
   "execution_count": 26,
   "metadata": {
    "id": "MXxnZFwa3qz0"
   },
   "outputs": [
    {
     "name": "stdout",
     "output_type": "stream",
     "text": [
      "                            OLS Regression Results                            \n",
      "==============================================================================\n",
      "Dep. Variable:                 excess   R-squared:                       0.118\n",
      "Model:                            OLS   Adj. R-squared:                  0.048\n",
      "Method:                 Least Squares   F-statistic:                     1.677\n",
      "Date:                Mon, 30 Sep 2024   Prob (F-statistic):              0.103\n",
      "Time:                        18:05:49   Log-Likelihood:                -480.53\n",
      "No. Observations:                 123   AIC:                             981.1\n",
      "Df Residuals:                     113   BIC:                             1009.\n",
      "Df Model:                           9                                         \n",
      "Covariance Type:            nonrobust                                         \n",
      "===============================================================================================\n",
      "                                  coef    std err          t      P>|t|      [0.025      0.975]\n",
      "-----------------------------------------------------------------------------------------------\n",
      "Intercept                      -2.5455      3.786     -0.672      0.503     -10.046       4.955\n",
      "misophonic[T.1.0]              17.5455      7.331      2.393      0.018       3.021      32.070\n",
      "misophonic[T.2.0]               2.4455      5.486      0.446      0.657      -8.424      13.315\n",
      "misophonic[T.3.0]               4.2513      4.859      0.875      0.383      -5.375      13.877\n",
      "misophonic[T.4.0]              11.5455      8.178      1.412      0.161      -4.658      27.748\n",
      "Sexo[T.M]                      -3.4879      4.426     -0.788      0.432     -12.256       5.281\n",
      "misophonic[T.1.0]:Sexo[T.M]   -11.5121     14.720     -0.782      0.436     -40.674      17.650\n",
      "misophonic[T.2.0]:Sexo[T.M]     1.9212      6.418      0.299      0.765     -10.795      14.637\n",
      "misophonic[T.3.0]:Sexo[T.M]     3.7106      6.334      0.586      0.559      -8.839      16.260\n",
      "misophonic[T.4.0]:Sexo[T.M]    -5.6788      9.921     -0.572      0.568     -25.333      13.976\n",
      "==============================================================================\n",
      "Omnibus:                        7.919   Durbin-Watson:                   1.983\n",
      "Prob(Omnibus):                  0.019   Jarque-Bera (JB):               12.806\n",
      "Skew:                          -0.235   Prob(JB):                      0.00166\n",
      "Kurtosis:                       4.509   Cond. No.                         19.2\n",
      "==============================================================================\n",
      "\n",
      "Notes:\n",
      "[1] Standard Errors assume that the covariance matrix of the errors is correctly specified.\n"
     ]
    }
   ],
   "source": [
    "model = ols(\"excess ~ misophonic * Sexo\", df).fit()\n",
    "print(model.summary())\n",
    "#anova(mod)"
   ]
  },
  {
   "cell_type": "code",
   "execution_count": 27,
   "metadata": {
    "id": "0b-J8SIl4ANx"
   },
   "outputs": [
    {
     "data": {
      "text/html": [
       "<div>\n",
       "<style scoped>\n",
       "    .dataframe tbody tr th:only-of-type {\n",
       "        vertical-align: middle;\n",
       "    }\n",
       "\n",
       "    .dataframe tbody tr th {\n",
       "        vertical-align: top;\n",
       "    }\n",
       "\n",
       "    .dataframe thead th {\n",
       "        text-align: right;\n",
       "    }\n",
       "</style>\n",
       "<table border=\"1\" class=\"dataframe\">\n",
       "  <thead>\n",
       "    <tr style=\"text-align: right;\">\n",
       "      <th></th>\n",
       "      <th>df</th>\n",
       "      <th>sum_sq</th>\n",
       "      <th>mean_sq</th>\n",
       "      <th>F</th>\n",
       "      <th>PR(&gt;F)</th>\n",
       "    </tr>\n",
       "  </thead>\n",
       "  <tbody>\n",
       "    <tr>\n",
       "      <th>misophonic</th>\n",
       "      <td>4.0</td>\n",
       "      <td>1915.038826</td>\n",
       "      <td>478.759707</td>\n",
       "      <td>3.036607</td>\n",
       "      <td>0.020259</td>\n",
       "    </tr>\n",
       "    <tr>\n",
       "      <th>Sexo</th>\n",
       "      <td>1.0</td>\n",
       "      <td>179.743120</td>\n",
       "      <td>179.743120</td>\n",
       "      <td>1.140048</td>\n",
       "      <td>0.287918</td>\n",
       "    </tr>\n",
       "    <tr>\n",
       "      <th>misophonic:Sexo</th>\n",
       "      <td>4.0</td>\n",
       "      <td>284.519790</td>\n",
       "      <td>71.129947</td>\n",
       "      <td>0.451153</td>\n",
       "      <td>0.771365</td>\n",
       "    </tr>\n",
       "    <tr>\n",
       "      <th>Residual</th>\n",
       "      <td>113.0</td>\n",
       "      <td>17815.885256</td>\n",
       "      <td>157.662701</td>\n",
       "      <td>NaN</td>\n",
       "      <td>NaN</td>\n",
       "    </tr>\n",
       "  </tbody>\n",
       "</table>\n",
       "</div>"
      ],
      "text/plain": [
       "                    df        sum_sq     mean_sq         F    PR(>F)\n",
       "misophonic         4.0   1915.038826  478.759707  3.036607  0.020259\n",
       "Sexo               1.0    179.743120  179.743120  1.140048  0.287918\n",
       "misophonic:Sexo    4.0    284.519790   71.129947  0.451153  0.771365\n",
       "Residual         113.0  17815.885256  157.662701       NaN       NaN"
      ]
     },
     "execution_count": 27,
     "metadata": {},
     "output_type": "execute_result"
    }
   ],
   "source": [
    "anova.anova_lm(model)"
   ]
  },
  {
   "cell_type": "markdown",
   "metadata": {
    "id": "Spt9oHON4HDV"
   },
   "source": [
    "We do not see a significant interaction (modulation) of the effect of sex on the group differences.\n",
    "\n",
    "We cannot say that the profiles of anxiety excess across misophonia grades are different between sexes."
   ]
  }
 ],
 "metadata": {
  "colab": {
   "collapsed_sections": [],
   "include_colab_link": true,
   "name": "11_misophonia_II.ipynb",
   "provenance": [],
   "toc_visible": true
  },
  "kernelspec": {
   "display_name": "Python 3 (ipykernel)",
   "language": "python",
   "name": "python3"
  },
  "language_info": {
   "codemirror_mode": {
    "name": "ipython",
    "version": 3
   },
   "file_extension": ".py",
   "mimetype": "text/x-python",
   "name": "python",
   "nbconvert_exporter": "python",
   "pygments_lexer": "ipython3",
   "version": "3.12.3"
  }
 },
 "nbformat": 4,
 "nbformat_minor": 4
}
