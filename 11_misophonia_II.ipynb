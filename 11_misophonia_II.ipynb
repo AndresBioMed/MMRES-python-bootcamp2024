{
 "cells": [
  {
   "cell_type": "markdown",
   "metadata": {
    "colab_type": "text",
    "id": "view-in-github"
   },
   "source": [
    "<a href=\"https://colab.research.google.com/github/MMRES-PyBootcamp/MMRES-python-bootcamp2022/blob/main/11_misophonia_II.ipynb\" target=\"_parent\"><img src=\"https://colab.research.google.com/assets/colab-badge.svg\" alt=\"Open In Colab\"/></a>"
   ]
  },
  {
   "cell_type": "markdown",
   "metadata": {
    "id": "iBiTnm-2Rwq9"
   },
   "source": [
    "# Session 11 - Misophonia (second part)\n",
    "When reporting the results of a study, we first describe the variables of interest in tables and figures.\n",
    "\n",
    "We describe demographics (sex, age, marital status, etc..)\n",
    "\n",
    "We describe outcome variables (misophonia)\n",
    "\n",
    "We describe explanatory variables (cephalometric measures, anxiety, depression)\n",
    "\n",
    "We then test the main hypotheses of the study.\n",
    "\n",
    "We state the main relationships we want to study and formulate the statistical hypothesis (Introduction)\n",
    "\n",
    "We describe how the study was performed and the statistical methods to test the hypothesis (Methods)\n",
    "\n",
    "We describe the results of the hypothesis tests with statistics, and significance measures.\n",
    "\n",
    "We illustrate the results with figures.\n",
    "\n",
    "\n",
    "\n",
    "\n",
    "Are the state and trait correlated?"
   ]
  },
  {
   "cell_type": "markdown",
   "metadata": {
    "id": "fxWsg4OnWYCL"
   },
   "source": [
    "<div class=\"alert alert-block alert-success\"><b>Practice:</b> \n",
    "Imagine we want to study the anxiety of participants in the misophonia study. We formulate the following hypothesis:\n",
    "\n",
    "> Participants who enrolled in the study had an increased level of anxiety from their baseline (trait) that is related to their:\n",
    "<ul>\n",
    "  <li> age\n",
    "  <li> sex\n",
    "  <li> misophonia state.\n",
    "</ul>\n",
    "</div>"
   ]
  },
  {
   "cell_type": "markdown",
   "metadata": {
    "id": "77XC87TbRwrE"
   },
   "source": [
    "**This document is devised as a tool to enable your self-learning process. If you get stuck at some step or need any kind of help, please don't hesitate to raise your hand and ask for the teacher's guidance.**\n",
    "\n",
    "---"
   ]
  },
  {
   "cell_type": "code",
   "execution_count": null,
   "metadata": {
    "id": "xTJKZ1FK_w1L"
   },
   "outputs": [],
   "source": [
    "import matplotlib.pyplot as plt\n",
    "import seaborn as sns\n",
    "import numpy as np\n",
    "from scipy import stats\n",
    "\n"
   ]
  },
  {
   "cell_type": "markdown",
   "metadata": {
    "id": "FATVWbEYRwrE"
   },
   "source": [
    "## Data loading\n",
    "\n",
    "Let's begin again by loading Pandas with the `pd` alias and by importing the misophonia dataset `misophonia_data.xlsx` from the `/MMRES-python-bootcamp2024/datasets` sub-folder:"
   ]
  },
  {
   "cell_type": "code",
   "execution_count": null,
   "metadata": {
    "id": "f-GEQ74bRwrF"
   },
   "outputs": [],
   "source": [
    "# Load package with its corresponding alias\n",
    "import pandas as pd\n",
    "\n",
    "# Reading an Excel SpreadSheet and storing it in as a DataFrame called `df`\n",
    "# df = pd.read_excel('https://github.com/MMRES-PyBootcamp/MMRES-python-bootcamp2022/blob/main/datasets/misophoinia_data.xlsx?raw=true')\n",
    "df = pd.read_excel('https://github.com/MMRES-PyBootcamp/MMRES-python-bootcamp2024/raw/master/datasets/misophonia_data.xlsx')\n",
    "\n",
    "# Return the DataFrame\n",
    "df"
   ]
  },
  {
   "cell_type": "markdown",
   "metadata": {
    "id": "DicSHOp8RwrH"
   },
   "source": [
    "## Data description\n",
    "\n",
    "Here is the description of the variables\n",
    "\n",
    "[1] “Misofonia”: Binary (si: misophinic, no: no misophinic)\n",
    "\n",
    "[2] “Misofonia.dic”: Categorical (0: no misophinic, 1: severity 1, 2: severity 2, 3: severity 3, 4: severity 4)\n",
    "\n",
    "[3] “Estado”: Marital status (casado: married, soltero: single, viuda: widow, divorciado:divorced)\n",
    "\n",
    "[4] “Estado.dic”: Numeric Marital status\n",
    "\n",
    "[5] “ansiedad.rasgo”: Score from 0-100 with anxiety personality trait\n",
    "\n",
    "[6] “ansiedad.rasgo.dic”: Binary score (0,1) of anxiety personality trait\n",
    "\n",
    "[7] “ansiedad.estado”: Score from 0-100 with current state of anxiety\n",
    "\n",
    "[8] “ansiedad.estado.dic”: Binary score (0,1) with current state of anxiety\n",
    "\n",
    "[9] “ansiedad.medicada”: Diagnosed with anxiety disorder (si, no)\n",
    "\n",
    "[10] “ansiedad.medicada.dic”: Diagnosed with anxiety disorder (1, 0)\n",
    "\n",
    "[11] “depresion”: Score from 0-50 with current state of depression\n",
    "\n",
    "[12] “depresion.dic” : Binary score (0,1) with current state of depression\n",
    "\n",
    "[13] “Sexo”: Male=H, Female:M\n",
    "\n",
    "[14] “Edad”: Age\n",
    "\n",
    "[15] “CLASE”: Type of jaw\n",
    "\n",
    "[16] “Angulo_convexidad”: convexity angle\n",
    "\n",
    "[17] “protusion.mandibular”: Projection of the jaw [18] “Angulo_cuelloYtercio”: angle between jaw and neck [19] “Subnasal_H”: Nasal angle\n",
    "\n",
    "[20] “cambio.autoconcepto”: Whether people changed their self-concept after treatment.\n",
    "\n",
    "[21] “Misofonia.post”: Misophionia diagnosed (A-MISO) after an educational program, where patients were made aware of a condition called misophonia.\n",
    "\n",
    "[22] “Misofonia.pre”: Misophionia diagnosed (A-MISO) before an educational program, where patients were made aware of a condition called misophonia\n",
    "\n",
    "[23] “ansiedad.dif”: Difference between anxiety state and anxiety trait scores\n",
    "\n",
    "<br><br>\n",
    "\n",
    "When reporting the results of a study, we first describe the variables of interest in tables and figures.\n",
    "\n",
    "We describe demographics (sex, age, marital status, etc..)\n",
    "\n",
    "We describe outcome variables (misophonia)"
   ]
  },
  {
   "cell_type": "markdown",
   "metadata": {
    "id": "JP2ZK7Kr0YqX"
   },
   "source": [
    "## 1. Correlation\n",
    "\n",
    "Are the state and trait correlated?"
   ]
  },
  {
   "cell_type": "code",
   "execution_count": null,
   "metadata": {
    "id": "bcEtDgM3RwrI"
   },
   "outputs": [],
   "source": [
    "sns.scatterplot(df['ansiedad.estado'],df['ansiedad.rasgo'])"
   ]
  },
  {
   "cell_type": "code",
   "execution_count": null,
   "metadata": {
    "id": "8kb4KL43hL7k"
   },
   "outputs": [],
   "source": [
    "sns.regplot(df['ansiedad.estado'],df['ansiedad.rasgo'])"
   ]
  },
  {
   "cell_type": "code",
   "execution_count": null,
   "metadata": {
    "id": "unso4LN6dNL4"
   },
   "outputs": [],
   "source": [
    "df['ansiedad.estado'].corr(df['ansiedad.rasgo'],method='pearson')"
   ]
  },
  {
   "cell_type": "code",
   "execution_count": null,
   "metadata": {
    "id": "K9B3bpxtgZBC"
   },
   "outputs": [],
   "source": [
    "# what happens here?\n",
    "stats.linregress(df['ansiedad.estado'],df['ansiedad.rasgo'])"
   ]
  },
  {
   "cell_type": "code",
   "execution_count": null,
   "metadata": {
    "id": "NQfqNMgfgn2a"
   },
   "outputs": [],
   "source": [
    "# Let's remove NA values\n",
    "mask = ~np.isnan(df['ansiedad.estado']) & ~np.isnan(df['ansiedad.rasgo'])\n",
    "stats.linregress(df[mask]['ansiedad.estado'],df[mask]['ansiedad.rasgo'])"
   ]
  },
  {
   "cell_type": "code",
   "execution_count": null,
   "metadata": {
    "id": "RSzgQQcmf73r"
   },
   "outputs": [],
   "source": [
    "slope, intercept, r_value, pv, se = stats.linregress(df[mask]['ansiedad.estado'],df[mask]['ansiedad.rasgo'])\n",
    "sns.regplot(x=\"ansiedad.estado\", y=\"ansiedad.rasgo\", data=df[mask], \n",
    "      ci=None, label=\"y={0:.2f}x+{1:.2f}\".format(slope, intercept)).legend(loc=\"best\")"
   ]
  },
  {
   "cell_type": "markdown",
   "metadata": {
    "id": "eoDF_0Q2h6vd"
   },
   "source": [
    "## Student’s t-test\n",
    "We are interested in the variable misofonia.dif, that is the observed excess of anxiety from the trait (excess=state−trait)\n",
    "\n",
    "Is excess in anxiety higher than 0?"
   ]
  },
  {
   "cell_type": "code",
   "execution_count": null,
   "metadata": {
    "id": "o-8b9VQuieBm"
   },
   "outputs": [],
   "source": [
    "df['excess']=df['ansiedad.estado']-df['ansiedad.rasgo']\n",
    "sns.distplot(df['excess'])\n",
    "plt.axvline(0,color='r')"
   ]
  },
  {
   "cell_type": "code",
   "execution_count": null,
   "metadata": {
    "id": "OVD-MmzYjDrl"
   },
   "outputs": [],
   "source": [
    "df['excess'].describe()"
   ]
  },
  {
   "cell_type": "markdown",
   "metadata": {
    "id": "Phwm3AfWjaG1"
   },
   "source": [
    "scipy.stats.ttest_1samp() tests if the population mean of data is likely to be equal to a given value (technically if observations are drawn from a Gaussian distributions of given population mean). It returns the T statistic, and the p-value:"
   ]
  },
  {
   "cell_type": "code",
   "execution_count": null,
   "metadata": {
    "id": "Iw_XW6owjLWl"
   },
   "outputs": [],
   "source": [
    "res=stats.ttest_1samp(df['excess'], 0) \n",
    "print (res[0])\n",
    "\n",
    "# What's wrong?"
   ]
  },
  {
   "cell_type": "code",
   "execution_count": null,
   "metadata": {
    "id": "_XZucKCljkfR"
   },
   "outputs": [],
   "source": [
    "# let's remove missing values\n",
    "res=stats.ttest_1samp(df['excess'].dropna(), 0) \n",
    "print (res)\n"
   ]
  },
  {
   "cell_type": "code",
   "execution_count": null,
   "metadata": {
    "id": "DFUnmxQGjrOI"
   },
   "outputs": [],
   "source": [
    "# or let's just ignore missing values\n",
    "res=stats.ttest_1samp(df['excess'], 0,nan_policy='omit') \n",
    "print (res)"
   ]
  },
  {
   "cell_type": "markdown",
   "metadata": {
    "id": "M66Owht9j65b"
   },
   "source": [
    "We do not see significant large values of the difference in anxiety; Enrollment in the study does not seem to detect individuals with an excess of anxiety.\n",
    "\n",
    "Is excess in anxiety higher than 0 for men and women separately?\n",
    "We first describe the conditional distributions\n",
    "\n"
   ]
  },
  {
   "cell_type": "code",
   "execution_count": null,
   "metadata": {
    "id": "nPBV2WZEj0TF"
   },
   "outputs": [],
   "source": [
    "sns.boxplot(data=df, y='excess',x='Sexo')\n"
   ]
  },
  {
   "cell_type": "markdown",
   "metadata": {
    "id": "OZVsqkV6kPOj"
   },
   "source": [
    "We perform the hypothesis test for each sex separately\n"
   ]
  },
  {
   "cell_type": "code",
   "execution_count": null,
   "metadata": {
    "id": "uNhfDCZVkOxu"
   },
   "outputs": [],
   "source": [
    "# Males\n",
    "res=stats.ttest_1samp(df[df['Sexo']=='H']['excess'], 0,nan_policy='omit') \n",
    "print (res)\n"
   ]
  },
  {
   "cell_type": "code",
   "execution_count": null,
   "metadata": {
    "id": "lEYw693gkYyC"
   },
   "outputs": [],
   "source": [
    "# Females\n",
    "res=stats.ttest_1samp(df[df['Sexo']=='M']['excess'], 0,nan_policy='omit') \n",
    "print (res)"
   ]
  },
  {
   "cell_type": "markdown",
   "metadata": {
    "id": "W14JDg5Jk3JG"
   },
   "source": [
    "## 2-sample t-test: testing for difference across populations"
   ]
  },
  {
   "cell_type": "markdown",
   "metadata": {
    "id": "PnKLaygzkn_z"
   },
   "source": [
    "We see that women (M) have a reduction in the excess of anxiety (almost significant), while men (H) had an increase (no significant). Why? perhaps because females tend to consult doctors before men do.\n",
    "\n",
    "Is the excess of anxiety significantly different between the sexes?\n",
    "\n",
    "To test if this is significant, we do a 2-sample t-test with scipy.stats.ttest_ind():"
   ]
  },
  {
   "cell_type": "code",
   "execution_count": null,
   "metadata": {
    "id": "Qje0mHX1lUoO"
   },
   "outputs": [],
   "source": [
    "female_excess = df[df['Sexo']=='M']['excess']\n",
    "male_excess = df[df['Sexo']=='H']['excess']\n",
    "stats.ttest_ind(female_excess, male_excess) "
   ]
  },
  {
   "cell_type": "markdown",
   "metadata": {
    "id": "B2D_-idolll5"
   },
   "source": [
    "We see that the difference between the group means is within the limit of significance with women having less excess anxiety than men.\n"
   ]
  },
  {
   "cell_type": "code",
   "execution_count": null,
   "metadata": {
    "id": "ajFq0ZVDlGvs"
   },
   "outputs": [],
   "source": [
    "sns.distplot(female_excess,hist=False,color='purple')\n",
    "sns.distplot(male_excess,hist=False,color='blue')\n"
   ]
  },
  {
   "cell_type": "markdown",
   "metadata": {
    "id": "F4Qgv_TFkpkn"
   },
   "source": [
    "## Lineal model\n",
    "Given two sets of observations, sex and excess of anxiety, we want to test the hypothesis that excess of anxiety is a linear function of sex.\n",
    "\n"
   ]
  },
  {
   "cell_type": "code",
   "execution_count": null,
   "metadata": {
    "id": "ab3VB-jkmBdk"
   },
   "outputs": [],
   "source": [
    "from statsmodels.formula.api import ols\n",
    "model = ols(\"excess ~ Sexo\", df).fit()\n",
    "print(model.summary())"
   ]
  },
  {
   "cell_type": "markdown",
   "metadata": {
    "id": "MDdba0KlmhcM"
   },
   "source": [
    "\n",
    "Is excess in anxiety higher in older people?\n"
   ]
  },
  {
   "cell_type": "code",
   "execution_count": null,
   "metadata": {
    "id": "z_2BEVarm1ed"
   },
   "outputs": [],
   "source": [
    "sns.regplot(data=df, x='Edad', y='excess')"
   ]
  },
  {
   "cell_type": "code",
   "execution_count": null,
   "metadata": {
    "id": "p4hf9Op5nEhG"
   },
   "outputs": [],
   "source": [
    "# We fit the regression model\n",
    "model = ols(\"excess ~ Edad\", df).fit()\n",
    "print(model.summary())"
   ]
  },
  {
   "cell_type": "markdown",
   "metadata": {
    "id": "2YZy-26hnVNX"
   },
   "source": [
    "The association, while positive it is not significant. What happens if we adjust by sex?\n",
    "\n"
   ]
  },
  {
   "cell_type": "code",
   "execution_count": null,
   "metadata": {
    "id": "vuql0y7Znajf"
   },
   "outputs": [],
   "source": [
    "model = ols(\"excess ~ Edad + Sexo\", df).fit()\n",
    "print(model.summary())"
   ]
  },
  {
   "cell_type": "markdown",
   "metadata": {
    "id": "alJYhM4Kna8A"
   },
   "source": [
    "If we adjust by sex the association is a bit stronger but still not significant."
   ]
  },
  {
   "cell_type": "code",
   "execution_count": null,
   "metadata": {
    "id": "P6X9wzXDnmbN"
   },
   "outputs": [],
   "source": [
    "sns.lmplot(data=df, x='Edad', y='excess', hue='Sexo')"
   ]
  },
  {
   "cell_type": "markdown",
   "metadata": {
    "id": "pzCqUPNgn6gR"
   },
   "source": [
    "Is excess in anxiety different between monophonic grades?\n"
   ]
  },
  {
   "cell_type": "code",
   "execution_count": null,
   "metadata": {
    "id": "Kxp6yO0on_Pk"
   },
   "outputs": [],
   "source": [
    "sns.boxplot(data=df, y='excess',x= 'Misofonia.dic')"
   ]
  },
  {
   "cell_type": "markdown",
   "metadata": {
    "id": "p_sFcauPoOim"
   },
   "source": [
    "We test the hypothesizes H0: means excess of anxiety are equal accross misophonic categories against H1: at least one of them is different"
   ]
  },
  {
   "cell_type": "code",
   "execution_count": null,
   "metadata": {
    "id": "ORUxV3jOofIf"
   },
   "outputs": [],
   "source": [
    "model = ols(\"excess ~ Misofonia.dic\", df).fit()\n",
    "print(model.summary())"
   ]
  },
  {
   "cell_type": "code",
   "execution_count": null,
   "metadata": {
    "id": "9-c5ZlTKoy1Q"
   },
   "outputs": [],
   "source": [
    "# what happened here!!??\n",
    "# OLS has some requirements regarding variable names... it is a bit picky...\n",
    "\n",
    "# let's rename this variable:\n",
    "df=df.rename(columns={'Misofonia.dic':'misophonic'})\n",
    "\n",
    "# or alternatively you can just create an additional column with a different name\n",
    "#df['misophonic']=df['Misophonia.dic']\n",
    "\n",
    "model = ols(\"excess ~ misophonic\", df).fit()\n",
    "print(model.summary())"
   ]
  },
  {
   "cell_type": "markdown",
   "metadata": {
    "id": "hbQMLaOmwG8A"
   },
   "source": [
    "Notice that misophonic variable was treated as a quantitative trait and not as a categorical factor"
   ]
  },
  {
   "cell_type": "code",
   "execution_count": null,
   "metadata": {
    "id": "3MYq0_XrwCY7"
   },
   "outputs": [],
   "source": [
    "df['misophonic']=df['misophonic'].astype('category')\n",
    "model = ols(\"excess ~ misophonic\", df).fit()\n",
    "print(model.summary())"
   ]
  },
  {
   "cell_type": "code",
   "execution_count": null,
   "metadata": {
    "id": "SWz7hFBFoqHi"
   },
   "outputs": [],
   "source": [
    "from statsmodels.stats import anova\n",
    "anova.anova_lm(model)"
   ]
  },
  {
   "cell_type": "markdown",
   "metadata": {
    "id": "b1J-GrVYxPm_"
   },
   "source": [
    "We see that anxiety excess of misophonia grade 1 is significantly higher than misophonia grade 0 (no misophonia), as it is grade 3. The ANOVA table shows that we accept the alternative hypothesis, where the differences between groups are significantly higher than within groups.\n",
    "\n",
    "Are the differences in excess in anxiety between monophonic grades modulated by sex?\n"
   ]
  },
  {
   "cell_type": "code",
   "execution_count": null,
   "metadata": {
    "id": "Q9sHChIbxPLN"
   },
   "outputs": [],
   "source": [
    "sns.boxplot(data=df, y='excess',x='misophonic',hue='Sexo')\n",
    "#boxplot(excess ~ misophonic, subset = which(sex==\"H\"))"
   ]
  },
  {
   "cell_type": "code",
   "execution_count": null,
   "metadata": {
    "id": "MXxnZFwa3qz0"
   },
   "outputs": [],
   "source": [
    "model = ols(\"excess ~ misophonic * Sexo\", df).fit()\n",
    "print(model.summary())\n",
    "#anova(mod)"
   ]
  },
  {
   "cell_type": "code",
   "execution_count": null,
   "metadata": {
    "id": "0b-J8SIl4ANx"
   },
   "outputs": [],
   "source": [
    "anova.anova_lm(model)"
   ]
  },
  {
   "cell_type": "markdown",
   "metadata": {
    "id": "Spt9oHON4HDV"
   },
   "source": [
    "We do not see a significant interaction (modulation) of the effect of sex on the group differences.\n",
    "\n",
    "We cannot say that the profiles of anxiety excess across misophonia grades are different between sexes."
   ]
  }
 ],
 "metadata": {
  "colab": {
   "collapsed_sections": [],
   "include_colab_link": true,
   "name": "11_misophonia_II.ipynb",
   "provenance": [],
   "toc_visible": true
  },
  "kernelspec": {
   "display_name": "Python 3 (ipykernel)",
   "language": "python",
   "name": "python3"
  },
  "language_info": {
   "codemirror_mode": {
    "name": "ipython",
    "version": 3
   },
   "file_extension": ".py",
   "mimetype": "text/x-python",
   "name": "python",
   "nbconvert_exporter": "python",
   "pygments_lexer": "ipython3",
   "version": "3.12.3"
  }
 },
 "nbformat": 4,
 "nbformat_minor": 4
}
