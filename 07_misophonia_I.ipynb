{
 "cells": [
  {
   "cell_type": "markdown",
   "metadata": {
    "colab_type": "text",
    "id": "view-in-github"
   },
   "source": [
    "<a href=\"https://colab.research.google.com/github/MMRES-PyBootcamp/MMRES-python-bootcamp2022/blob/main/07_misophonia_I.ipynb\" target=\"_parent\"><img src=\"https://colab.research.google.com/assets/colab-badge.svg\" alt=\"Open In Colab\"/></a>"
   ]
  },
  {
   "cell_type": "markdown",
   "metadata": {
    "id": "iBiTnm-2Rwq9"
   },
   "source": [
    "# Session 7 - Misophonia (First part)\n",
    "> Misophonia is a recently described neurological condition whereby patients feel strong anxiety when hearing particular noises (someone blowing their nose, mobile ringing, trains passing, etc..). It is believed that 5% of the population suffers from this condition without knowing it, likely blaming their anxiety on other causes.\n",
    "\n",
    "The misophonia dataset is from a recent (unpublished) study that aimed to describe the relationships between misophonia and anxiety, depression, and cephalometric measures (shape of the jaw)."
   ]
  },
  {
   "cell_type": "markdown",
   "metadata": {
    "id": "jWDIGMJGRwrC"
   },
   "source": [
    "<div class=\"alert alert-block alert-success\"><b>Practice:</b> Practice cells announce exercises that you should try during the current boot camp session.\n",
    "</div>"
   ]
  },
  {
   "cell_type": "markdown",
   "metadata": {
    "id": "q4z9h_ndRwrC"
   },
   "source": [
    "<div class=\"alert alert-block alert-warning\"><b>Extension:</b> Extension cells correspond to exercises (or links to contents) that are a bit more advanced. We recommend to try them after the current boot camp session.\n",
    "</div>"
   ]
  },
  {
   "cell_type": "markdown",
   "metadata": {
    "id": "mK6FlNnFRwrD"
   },
   "source": [
    "<div class=\"alert alert-block alert-info\"><b>Tip:</b> Tip cells just give some advice or complementary information.\n",
    "</div>"
   ]
  },
  {
   "cell_type": "markdown",
   "metadata": {
    "id": "SwpIs5FVRwrD"
   },
   "source": [
    "<div class=\"alert alert-block alert-danger\"><b>Caveat:</b> Caveat cells warn you about the most common pitfalls one founds when starts his/her path learning Python.\n",
    "\n",
    "</div>"
   ]
  },
  {
   "cell_type": "markdown",
   "metadata": {
    "id": "77XC87TbRwrE"
   },
   "source": [
    "**This document is devised as a tool to enable your self-learning process. If you get stuck at some step or need any kind of help, please don't hesitate to raise your hand and ask for the teacher's guidance.**\n",
    "\n",
    "---"
   ]
  },
  {
   "cell_type": "code",
   "execution_count": null,
   "metadata": {
    "id": "xTJKZ1FK_w1L"
   },
   "outputs": [],
   "source": [
    "import matplotlib.pyplot as plt\n",
    "import seaborn as sns\n",
    "import numpy as np"
   ]
  },
  {
   "cell_type": "markdown",
   "metadata": {
    "id": "FATVWbEYRwrE"
   },
   "source": [
    "## Data loading\n",
    "\n",
    "Let's begin again by loading Pandas with the `pd` alias and by importing the misophonia dataset `misophonia_data.xlsx` from the `/MMRES-python-bootcamp2022/datasets` sub-folder:"
   ]
  },
  {
   "cell_type": "code",
   "execution_count": null,
   "metadata": {
    "colab": {
     "base_uri": "https://localhost:8080/",
     "height": 488
    },
    "id": "f-GEQ74bRwrF",
    "outputId": "acd7ac26-22b9-4a11-d2d7-6c07dd9a58f0"
   },
   "outputs": [],
   "source": [
    "# Load package with its corresponding alias\n",
    "import pandas as pd\n",
    "\n",
    "# Reading an Excel SpreadSheet and storing it in as a DataFrame called `df`\n",
    "# df = pd.read_excel('https://github.com/MMRES-PyBootcamp/MMRES-python-bootcamp2022/blob/main/datasets/misophoinia_data.xlsx?raw=true')\n",
    "df = pd.read_excel('https://github.com/MMRES-PyBootcamp/MMRES-python-bootcamp2024/raw/master/datasets/misophonia_data.xlsx')\n",
    "\n",
    "# Return the DataFrame\n",
    "df"
   ]
  },
  {
   "cell_type": "markdown",
   "metadata": {
    "id": "XnXZ7cRkXsUh"
   },
   "source": [
    "<div class=\"alert alert-block alert-warning\"><b>Extension:</b>\n",
    "\n",
    "We can load data from different file formats. Export the current dataset as a *.csv file, or as a *.tsv file and load it again using the proper function. You will have to find them in the documentation:\n",
    "\n",
    "https://pandas.pydata.org/docs/reference/api/pandas.DataFrame.to_csv.html\n",
    "\n",
    "https://pandas.pydata.org/pandas-docs/stable/user_guide/io.html\n",
    "</div>"
   ]
  },
  {
   "cell_type": "markdown",
   "metadata": {
    "id": "YL_oulPcbO41"
   },
   "source": [
    "<div class=\"alert alert-block alert-info\"><b>Tip:</b> \n",
    "Uncomment the following cell to have an example\n",
    "</div> "
   ]
  },
  {
   "cell_type": "code",
   "execution_count": null,
   "metadata": {
    "id": "nYXwJPXHa-TX"
   },
   "outputs": [],
   "source": [
    "\n",
    "#df = pd.read_csv('https://raw.githubusercontent.com/MMRES-PyBootcamp/MMRES-python-bootcamp2022/main/datasets/misophoinia_data.mod.csv', sep=',', na_values=\"NA\")\n",
    "#df\n"
   ]
  },
  {
   "cell_type": "markdown",
   "metadata": {
    "id": "DicSHOp8RwrH"
   },
   "source": [
    "### Data description\n",
    "\n",
    "Here is the description of the variables\n",
    "\n",
    "[1] “Misofonia”: Binary (si: misophinic, no: no misophinic)\n",
    "\n",
    "[2] “Misofonia.dic”: Categorical (0: no misophinic, 1: severity 1, 2: severity 2, 3: severity 3, 4: severity 4)\n",
    "\n",
    "[3] “Estado”: Marital status (casado: married, soltero: single, viuda: widow, divorciado:divorced)\n",
    "\n",
    "[4] “Estado.dic”: Numeric Marital status\n",
    "\n",
    "[5] “ansiedad.rasgo”: Score from 0-100 with anxiety personality trait\n",
    "\n",
    "[6] “ansiedad.rasgo.dic”: Binary score (0,1) of anxiety personality trait\n",
    "\n",
    "[7] “ansiedad.estado”: Score from 0-100 with current state of anxiety\n",
    "\n",
    "[8] “ansiedad.estado.dic”: Binary score (0,1) with current state of anxiety\n",
    "\n",
    "[9] “ansiedad.medicada”: Diagnosed with anxiety disorder (si, no)\n",
    "\n",
    "[10] “ansiedad.medicada.dic”: Diagnosed with anxiety disorder (1, 0)\n",
    "\n",
    "[11] “depresion”: Score from 0-50 with current state of depression\n",
    "\n",
    "[12] “depresion.dic” : Binary score (0,1) with current state of depression\n",
    "\n",
    "[13] “Sexo”: Male=H, Female:M\n",
    "\n",
    "[14] “Edad”: Age\n",
    "\n",
    "[15] “CLASE”: Type of jaw\n",
    "\n",
    "[16] “Angulo_convexidad”: convexity angle\n",
    "\n",
    "[17] “protusion.mandibular”: Projection of the jaw [18] “Angulo_cuelloYtercio”: angle between jaw and neck [19] “Subnasal_H”: Nasal angle\n",
    "\n",
    "[20] “cambio.autoconcepto”: Whether people changed their self-concept after treatment.\n",
    "\n",
    "[21] “Misofonia.post”: Misophionia diagnosed (A-MISO) after an educational program, where patients were made aware of a condition called misophonia.\n",
    "\n",
    "[22] “Misofonia.pre”: Misophionia diagnosed (A-MISO) before an educational program, where patients were made aware of a condition called misophonia\n",
    "\n",
    "[23] “ansiedad.dif”: Difference between anxiety state and anxiety trait scores\n",
    "\n",
    "<br><br>\n",
    "\n",
    "When reporting the results of a study, we first describe the variables of interest in tables and figures.\n",
    "\n",
    "We describe demographics (sex, age, marital status, etc..)\n",
    "\n",
    "We describe outcome variables (misophonia)"
   ]
  },
  {
   "cell_type": "markdown",
   "metadata": {
    "id": "JP2ZK7Kr0YqX"
   },
   "source": [
    "### 1. Descriptive statistics of explanatory variables\n",
    "\n",
    "\n",
    "We describe explanatory variables such as cephalometric measures, anxiety, depression, etc."
   ]
  },
  {
   "cell_type": "markdown",
   "metadata": {
    "id": "Y20AoX2K7eLB"
   },
   "source": [
    "\n",
    "<div class=\"alert alert-block alert-success\"><b>Practice:</b>\n",
    "\n",
    "Imagine we want to study the anxiety of participants in the misophonia study. Once loaded the data, describe the participants’ sex, age and marital status. \n",
    "</div>\n"
   ]
  },
  {
   "cell_type": "code",
   "execution_count": null,
   "metadata": {
    "id": "bcEtDgM3RwrI"
   },
   "outputs": [],
   "source": [
    "# Count the numnber of occurences of each value in a categorical variable\n",
    "from collections import Counter\n",
    "print(Counter(df['Sexo']))\n"
   ]
  },
  {
   "cell_type": "code",
   "execution_count": null,
   "metadata": {
    "id": "x8X1adzf-7tt"
   },
   "outputs": [],
   "source": [
    "\n",
    "# this is the same using pandas\n",
    "df.groupby('Sexo').size()\n"
   ]
  },
  {
   "cell_type": "code",
   "execution_count": null,
   "metadata": {
    "id": "L7WCZOmk_DXR"
   },
   "outputs": [],
   "source": [
    "# this way we can get the percentages\n",
    "df['Sexo'].value_counts(normalize=True) * 100"
   ]
  },
  {
   "cell_type": "code",
   "execution_count": null,
   "metadata": {
    "id": "iqUGJJeK0USS"
   },
   "outputs": [],
   "source": [
    "# plot the percentage using matplotlib\n",
    "\n",
    "fig, ax = plt.subplots()\n",
    "ax.bar([0,1],df['Sexo'].value_counts(normalize=True) * 100)\n",
    "ax.set_xticks([0,1])\n",
    "ax.set_xticklabels(['H','M'])\n",
    "ax.set_ylabel('Percentage')"
   ]
  },
  {
   "cell_type": "code",
   "execution_count": null,
   "metadata": {
    "id": "FJPdq5oNAoCR"
   },
   "outputs": [],
   "source": [
    "# plot the counts using seaborn\n",
    "fig, ax = plt.subplots()\n",
    "sns.countplot(data=df,x='Sexo')"
   ]
  },
  {
   "cell_type": "code",
   "execution_count": null,
   "metadata": {
    "id": "lloa5ZaEWm7k"
   },
   "outputs": [],
   "source": [
    "#mean with pandas\n",
    "df['Edad'].mean()"
   ]
  },
  {
   "cell_type": "code",
   "execution_count": null,
   "metadata": {
    "id": "VpsVPsLiW86A"
   },
   "outputs": [],
   "source": [
    "#mean with numpy\n",
    "np.mean(df['Edad'])"
   ]
  },
  {
   "cell_type": "code",
   "execution_count": null,
   "metadata": {
    "id": "ow33q0InXLxB"
   },
   "outputs": [],
   "source": [
    "#standard deviation with numpy\n",
    "np.std(df['Edad'])"
   ]
  },
  {
   "cell_type": "code",
   "execution_count": null,
   "metadata": {
    "id": "gsGk0VuIXXL6"
   },
   "outputs": [],
   "source": [
    "#standard deviation with pandas\n",
    "df['Edad'].std()"
   ]
  },
  {
   "cell_type": "code",
   "execution_count": null,
   "metadata": {
    "id": "qvWjS0XUX2fK"
   },
   "outputs": [],
   "source": [
    "df['Edad'].describe()\n"
   ]
  },
  {
   "cell_type": "markdown",
   "metadata": {
    "id": "X8vOS6fYaSBU"
   },
   "source": [
    "<div class=\"alert alert-block alert-success\"><b>Practice:</b>\n",
    "\n",
    "Try to obtain the descriptive statistics shown above with the individual functions of numpy and/or pandas.\n",
    " \n",
    "</div>"
   ]
  },
  {
   "cell_type": "code",
   "execution_count": null,
   "metadata": {
    "id": "r61iz0knXuZK"
   },
   "outputs": [],
   "source": [
    "# histogram\n",
    "sns.distplot(df['Edad'])"
   ]
  },
  {
   "cell_type": "code",
   "execution_count": null,
   "metadata": {
    "id": "lkJZBy7jajt0"
   },
   "outputs": [],
   "source": [
    "sns.boxplot(y=df['Edad'])"
   ]
  },
  {
   "cell_type": "code",
   "execution_count": null,
   "metadata": {
    "id": "6vuRlEb6awOE"
   },
   "outputs": [],
   "source": [
    "fig, ax = plt.subplots()\n",
    "fig.set_size_inches(3, 5)\n",
    "sns.boxplot(data=df, y='Edad',ax=ax)"
   ]
  },
  {
   "cell_type": "code",
   "execution_count": null,
   "metadata": {
    "id": "I1rf5SROem_z"
   },
   "outputs": [],
   "source": [
    "# Age by sex\n",
    "maleage = df[df['Sexo']==\"H\"]['Edad']\n",
    "femaleage = df[df['Sexo']==\"M\"]['Edad']\n",
    "print('male age\\n',maleage.describe())\n",
    "print('female age\\n',femaleage.describe())"
   ]
  },
  {
   "cell_type": "code",
   "execution_count": null,
   "metadata": {
    "id": "5pLgZu9Lf1gF"
   },
   "outputs": [],
   "source": [
    "sns.boxplot(data=df,y='Edad', x='Sexo')"
   ]
  },
  {
   "cell_type": "code",
   "execution_count": null,
   "metadata": {
    "id": "-eX_FP-Ag5uk"
   },
   "outputs": [],
   "source": [
    "# Marital status:\n",
    "maritaldf=df['Estado'].value_counts(normalize=True) * 100\n",
    "maritaldf"
   ]
  },
  {
   "cell_type": "code",
   "execution_count": null,
   "metadata": {
    "id": "nFMIvsvjhXuY"
   },
   "outputs": [],
   "source": [
    "plt.pie(maritaldf,labels=maritaldf.index)"
   ]
  },
  {
   "cell_type": "markdown",
   "metadata": {
    "id": "x8RidpecjpY-"
   },
   "source": [
    "### 2. Descriptive statistics of clinical outcome\n",
    "\n",
    "We have four measures of anxiety:\n",
    "<ul>\n",
    "  <li> ansiedad.rasgo (are you an anxious person?) continuous:0-100 </li>\n",
    "  <li> ansiedad.estado (are you currently feeling anxious?) continuous:0-100 </li>\n",
    "  <li> ansiedad.medicada (have you been diagnosed with an anxiety disorder?) binary (si, no) </li>\n",
    "  <li> ansiedad.dif (difference between ansiedad.estado and ansiedad.rasgo) </li>\n",
    "</ul>"
   ]
  },
  {
   "cell_type": "markdown",
   "metadata": {
    "id": "s4Agdyh3lAyw"
   },
   "source": [
    "#### Anxiety trait \n",
    "are you an anxious person?\n",
    "continuous:0-100"
   ]
  },
  {
   "cell_type": "code",
   "execution_count": null,
   "metadata": {
    "id": "AblRKr7_jtr4"
   },
   "outputs": [],
   "source": [
    "df['ansiedad.rasgo'].describe()"
   ]
  },
  {
   "cell_type": "code",
   "execution_count": null,
   "metadata": {
    "id": "gZGPYHxhkBMT"
   },
   "outputs": [],
   "source": [
    "sns.distplot(df['ansiedad.rasgo'])"
   ]
  },
  {
   "cell_type": "code",
   "execution_count": null,
   "metadata": {
    "id": "DyQbC2uckMhn"
   },
   "outputs": [],
   "source": [
    "fig, ax = plt.subplots()\n",
    "fig.set_size_inches(3, 5)\n",
    "sns.boxplot(data=df,y='ansiedad.rasgo',ax=ax)"
   ]
  },
  {
   "cell_type": "code",
   "execution_count": null,
   "metadata": {
    "id": "wlkSNAz3kz25"
   },
   "outputs": [],
   "source": []
  },
  {
   "cell_type": "markdown",
   "metadata": {
    "id": "nL5l7eBAk0Bq"
   },
   "source": [
    "#### Anxiety state\n",
    "are you currently feeling anxious? \n",
    "*continuous*:0-100"
   ]
  },
  {
   "cell_type": "code",
   "execution_count": null,
   "metadata": {
    "id": "eSndujOykcHb"
   },
   "outputs": [],
   "source": [
    "df['ansiedad.estado'].describe()"
   ]
  },
  {
   "cell_type": "code",
   "execution_count": null,
   "metadata": {
    "id": "K5x7UEJkkizN"
   },
   "outputs": [],
   "source": [
    "sns.distplot(df['ansiedad.estado'])"
   ]
  },
  {
   "cell_type": "code",
   "execution_count": null,
   "metadata": {
    "id": "d9BJkRuUklWT"
   },
   "outputs": [],
   "source": [
    "fig, ax = plt.subplots()\n",
    "fig.set_size_inches(3, 5)\n",
    "sns.boxplot(data=df,y='ansiedad.estado',ax=ax)"
   ]
  },
  {
   "cell_type": "markdown",
   "metadata": {
    "id": "SAb7e72uW_Dn"
   },
   "source": [
    "#### Diagnosed\n",
    "have you been diagnosed with an anxiety disorder? binary (si, no)\n"
   ]
  },
  {
   "cell_type": "code",
   "execution_count": null,
   "metadata": {
    "id": "GSogQHPokr-O"
   },
   "outputs": [],
   "source": [
    "# plot the counts using seaborn\n",
    "fig, ax = plt.subplots()\n",
    "sns.countplot(data=df,x='ansiedad.medicada')"
   ]
  },
  {
   "cell_type": "markdown",
   "metadata": {
    "id": "I5nNMh-mY_pj"
   },
   "source": [
    "#### Relationships between outcomes"
   ]
  },
  {
   "cell_type": "code",
   "execution_count": null,
   "metadata": {
    "id": "S959kVttY-3C"
   },
   "outputs": [],
   "source": [
    "fig, ax = plt.subplots()\n",
    "ax.scatter(df['ansiedad.rasgo'],df['ansiedad.estado'])\n",
    "ax.set_xlabel('ansiedad.rasgo')\n",
    "ax.set_ylabel('ansiedad.estado')\n"
   ]
  },
  {
   "cell_type": "code",
   "execution_count": null,
   "metadata": {
    "id": "y0kpMhvEZbFh"
   },
   "outputs": [],
   "source": [
    "sns.regplot(data=df,x='ansiedad.rasgo',y='ansiedad.estado')"
   ]
  },
  {
   "cell_type": "code",
   "execution_count": null,
   "metadata": {
    "id": "XBnGHZWpZwPw"
   },
   "outputs": [],
   "source": [
    "sns.relplot(data=df,x='ansiedad.rasgo',y='ansiedad.estado',hue='ansiedad.medicada')"
   ]
  },
  {
   "cell_type": "markdown",
   "metadata": {
    "id": "xvJDR0U2aSiQ"
   },
   "source": [
    "#### Relationships between explanatory and outcome variables"
   ]
  },
  {
   "cell_type": "code",
   "execution_count": null,
   "metadata": {
    "id": "ipjR7OzibIZg"
   },
   "outputs": [],
   "source": [
    "# Trait by sex\n",
    "fig, ax = plt.subplots()\n",
    "fig.set_size_inches(3, 5)\n",
    "sns.boxplot(data=df, x='ansiedad.medicada', y='Edad',ax=ax)"
   ]
  },
  {
   "cell_type": "code",
   "execution_count": null,
   "metadata": {
    "id": "4LWC9TSJadVE"
   },
   "outputs": [],
   "source": [
    "# State by sex\n",
    "fig, ax = plt.subplots()\n",
    "fig.set_size_inches(3, 5)\n",
    "sns.boxplot(data=df, x='Sexo', y='ansiedad.estado', ax=ax)"
   ]
  },
  {
   "cell_type": "code",
   "execution_count": null,
   "metadata": {
    "id": "4ysG3HN1a5EZ"
   },
   "outputs": [],
   "source": [
    "# Diagnosed by sex\n",
    "# State by sex\n",
    "fig, ax = plt.subplots()\n",
    "fig.set_size_inches(3, 5)\n",
    "sns.boxplot(data=df, x='Sexo', y='ansiedad.estado', hue='ansiedad.medicada', ax=ax)"
   ]
  },
  {
   "cell_type": "code",
   "execution_count": null,
   "metadata": {
    "id": "p1jMprADBCot"
   },
   "outputs": [],
   "source": [
    "# plot the percentages using seaborn\n",
    "\n",
    "x, y, hue = \"ansiedad.medicada\", \"proportion\", \"Sexo\"\n",
    "hue_order = [\"M\", \"H\"]\n",
    "\n",
    "(df[x]\n",
    " .groupby(df[hue])\n",
    " .value_counts(normalize=True)\n",
    " .rename(y)\n",
    " .reset_index()\n",
    " .pipe((sns.barplot, \"data\"), x=x, y=y, hue=hue))"
   ]
  },
  {
   "cell_type": "code",
   "execution_count": null,
   "metadata": {
    "id": "rsv8uO3Zgh2j"
   },
   "outputs": [],
   "source": [
    "#conditional frequencies by sex\n",
    "pd.crosstab(df['Sexo'],df['ansiedad.medicada'],normalize='index')\n"
   ]
  },
  {
   "cell_type": "code",
   "execution_count": null,
   "metadata": {
    "id": "r7TbWiCBSr3G"
   },
   "outputs": [],
   "source": [
    "#Trait Vs age\n",
    "sns.scatterplot(df['Edad'], df['ansiedad.rasgo'])"
   ]
  },
  {
   "cell_type": "code",
   "execution_count": null,
   "metadata": {
    "id": "vnHtsH04TO12"
   },
   "outputs": [],
   "source": [
    "#State Vs age\n",
    "sns.scatterplot(df['Edad'], df['ansiedad.estado'])"
   ]
  },
  {
   "cell_type": "code",
   "execution_count": null,
   "metadata": {
    "id": "FXj2WNDaTfFO"
   },
   "outputs": [],
   "source": [
    "#age by diagnosis\n",
    "sns.boxplot(data=df,y='Edad',x='ansiedad.medicada')"
   ]
  }
 ],
 "metadata": {
  "colab": {
   "collapsed_sections": [],
   "include_colab_link": true,
   "name": "07_misophonia_I.ipynb",
   "provenance": [],
   "toc_visible": true
  },
  "kernelspec": {
   "display_name": "Python 3 (ipykernel)",
   "language": "python",
   "name": "python3"
  },
  "language_info": {
   "codemirror_mode": {
    "name": "ipython",
    "version": 3
   },
   "file_extension": ".py",
   "mimetype": "text/x-python",
   "name": "python",
   "nbconvert_exporter": "python",
   "pygments_lexer": "ipython3",
   "version": "3.12.3"
  }
 },
 "nbformat": 4,
 "nbformat_minor": 4
}
